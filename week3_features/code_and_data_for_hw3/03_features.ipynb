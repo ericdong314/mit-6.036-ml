{
 "cells": [
  {
   "cell_type": "code",
   "id": "initial_id",
   "metadata": {
    "collapsed": true,
    "ExecuteTime": {
     "end_time": "2025-01-11T23:39:14.726518Z",
     "start_time": "2025-01-11T23:39:14.715905Z"
    }
   },
   "source": [
    "import numpy as np\n",
    "\n",
    "\n",
    "def perceptron_through_origin(data, labels, T=100, hook=None):\n",
    "    # if T not in params, default to 100\n",
    "    n_mistakes = 0\n",
    "\n",
    "    d, n = data.shape\n",
    "    th = np.zeros((d, 1))\n",
    "    for t in range(T):\n",
    "        made_mistake = False\n",
    "        for i in range(n):\n",
    "            x = data[:, i:i + 1]\n",
    "            y = labels[:, i:i + 1]\n",
    "            if y * (th.T @ x) <= 0:\n",
    "                th += y * x\n",
    "                made_mistake = True\n",
    "                n_mistakes += 1\n",
    "        if not made_mistake:\n",
    "            print(\"perfect th found!!\")\n",
    "            print(f\"mistakes made: {n_mistakes}\")\n",
    "            return th\n",
    "    print(\"perfect th not found :(\")\n",
    "    print(f\"mistakes made: {n_mistakes}\")\n",
    "    return th\n"
   ],
   "outputs": [],
   "execution_count": 12
  },
  {
   "metadata": {},
   "cell_type": "code",
   "outputs": [],
   "execution_count": null,
   "source": "",
   "id": "6cd56a1fc47609d0"
  },
  {
   "metadata": {
    "ExecuteTime": {
     "end_time": "2025-01-12T00:21:01.830325Z",
     "start_time": "2025-01-11T23:39:41.024319Z"
    }
   },
   "cell_type": "code",
   "source": [
    "data = np.array([[200, 0.2, 1], [800, 0.2, 1], [200, 0.8, 1], [800, 0.8, 1]]).T\n",
    "# data = np.array([[2, 0.2, 1], [8, 0.2, 1], [2, 0.8, 1], [8, 0.8, 1]]).T\n",
    "\n",
    "labels = np.array([[-1, -1, 1, 1]])\n",
    "perceptron_through_origin(data, labels, T=1000000)"
   ],
   "id": "d54f1a15437a15c2",
   "outputs": [
    {
     "ename": "KeyboardInterrupt",
     "evalue": "",
     "output_type": "error",
     "traceback": [
      "\u001B[1;31m---------------------------------------------------------------------------\u001B[0m",
      "\u001B[1;31mKeyboardInterrupt\u001B[0m                         Traceback (most recent call last)",
      "Cell \u001B[1;32mIn[13], line 5\u001B[0m\n\u001B[0;32m      2\u001B[0m \u001B[38;5;66;03m# data = np.array([[2, 0.2, 1], [8, 0.2, 1], [2, 0.8, 1], [8, 0.8, 1]]).T\u001B[39;00m\n\u001B[0;32m      4\u001B[0m labels \u001B[38;5;241m=\u001B[39m np\u001B[38;5;241m.\u001B[39marray([[\u001B[38;5;241m-\u001B[39m\u001B[38;5;241m1\u001B[39m, \u001B[38;5;241m-\u001B[39m\u001B[38;5;241m1\u001B[39m, \u001B[38;5;241m1\u001B[39m, \u001B[38;5;241m1\u001B[39m]])\n\u001B[1;32m----> 5\u001B[0m \u001B[43mperceptron_through_origin\u001B[49m\u001B[43m(\u001B[49m\u001B[43mdata\u001B[49m\u001B[43m,\u001B[49m\u001B[43m \u001B[49m\u001B[43mlabels\u001B[49m\u001B[43m,\u001B[49m\u001B[43m \u001B[49m\u001B[43mT\u001B[49m\u001B[38;5;241;43m=\u001B[39;49m\u001B[38;5;241;43m1000000\u001B[39;49m\u001B[43m)\u001B[49m\n",
      "Cell \u001B[1;32mIn[12], line 20\u001B[0m, in \u001B[0;36mperceptron_through_origin\u001B[1;34m(data, labels, T, hook)\u001B[0m\n\u001B[0;32m     18\u001B[0m         n_mistakes \u001B[38;5;241m+\u001B[39m\u001B[38;5;241m=\u001B[39m \u001B[38;5;241m1\u001B[39m\n\u001B[0;32m     19\u001B[0m \u001B[38;5;28;01mif\u001B[39;00m \u001B[38;5;129;01mnot\u001B[39;00m made_mistake:\n\u001B[1;32m---> 20\u001B[0m     \u001B[38;5;28;43mprint\u001B[39;49m(\u001B[38;5;124m\"\u001B[39m\u001B[38;5;124mperfect th found!!\u001B[39m\u001B[38;5;124m\"\u001B[39m)\n\u001B[0;32m     21\u001B[0m     \u001B[38;5;28mprint\u001B[39m(\u001B[38;5;124mf\u001B[39m\u001B[38;5;124m\"\u001B[39m\u001B[38;5;124mmistakes made: \u001B[39m\u001B[38;5;132;01m{\u001B[39;00mn_mistakes\u001B[38;5;132;01m}\u001B[39;00m\u001B[38;5;124m\"\u001B[39m)\n\u001B[0;32m     22\u001B[0m     \u001B[38;5;28;01mreturn\u001B[39;00m th\n",
      "File \u001B[1;32m_pydevd_bundle\\\\pydevd_cython_win32_312_64.pyx:1187\u001B[0m, in \u001B[0;36m_pydevd_bundle.pydevd_cython_win32_312_64.SafeCallWrapper.__call__\u001B[1;34m()\u001B[0m\n",
      "File \u001B[1;32m_pydevd_bundle\\\\pydevd_cython_win32_312_64.pyx:627\u001B[0m, in \u001B[0;36m_pydevd_bundle.pydevd_cython_win32_312_64.PyDBFrame.trace_dispatch\u001B[1;34m()\u001B[0m\n",
      "File \u001B[1;32m_pydevd_bundle\\\\pydevd_cython_win32_312_64.pyx:937\u001B[0m, in \u001B[0;36m_pydevd_bundle.pydevd_cython_win32_312_64.PyDBFrame.trace_dispatch\u001B[1;34m()\u001B[0m\n",
      "File \u001B[1;32m_pydevd_bundle\\\\pydevd_cython_win32_312_64.pyx:928\u001B[0m, in \u001B[0;36m_pydevd_bundle.pydevd_cython_win32_312_64.PyDBFrame.trace_dispatch\u001B[1;34m()\u001B[0m\n",
      "File \u001B[1;32m_pydevd_bundle\\\\pydevd_cython_win32_312_64.pyx:585\u001B[0m, in \u001B[0;36m_pydevd_bundle.pydevd_cython_win32_312_64.PyDBFrame.do_wait_suspend\u001B[1;34m()\u001B[0m\n",
      "File \u001B[1;32mC:\\Program Files\\JetBrains\\PyCharm 2024.3.1.1\\plugins\\python-ce\\helpers\\pydev\\pydevd.py:1220\u001B[0m, in \u001B[0;36mPyDB.do_wait_suspend\u001B[1;34m(self, thread, frame, event, arg, send_suspend_message, is_unhandled_exception)\u001B[0m\n\u001B[0;32m   1217\u001B[0m         from_this_thread\u001B[38;5;241m.\u001B[39mappend(frame_id)\n\u001B[0;32m   1219\u001B[0m \u001B[38;5;28;01mwith\u001B[39;00m \u001B[38;5;28mself\u001B[39m\u001B[38;5;241m.\u001B[39m_threads_suspended_single_notification\u001B[38;5;241m.\u001B[39mnotify_thread_suspended(thread_id, stop_reason):\n\u001B[1;32m-> 1220\u001B[0m     \u001B[38;5;28;43mself\u001B[39;49m\u001B[38;5;241;43m.\u001B[39;49m\u001B[43m_do_wait_suspend\u001B[49m\u001B[43m(\u001B[49m\u001B[43mthread\u001B[49m\u001B[43m,\u001B[49m\u001B[43m \u001B[49m\u001B[43mframe\u001B[49m\u001B[43m,\u001B[49m\u001B[43m \u001B[49m\u001B[43mevent\u001B[49m\u001B[43m,\u001B[49m\u001B[43m \u001B[49m\u001B[43marg\u001B[49m\u001B[43m,\u001B[49m\u001B[43m \u001B[49m\u001B[43msuspend_type\u001B[49m\u001B[43m,\u001B[49m\u001B[43m \u001B[49m\u001B[43mfrom_this_thread\u001B[49m\u001B[43m)\u001B[49m\n",
      "File \u001B[1;32mC:\\Program Files\\JetBrains\\PyCharm 2024.3.1.1\\plugins\\python-ce\\helpers\\pydev\\pydevd.py:1235\u001B[0m, in \u001B[0;36mPyDB._do_wait_suspend\u001B[1;34m(self, thread, frame, event, arg, suspend_type, from_this_thread)\u001B[0m\n\u001B[0;32m   1232\u001B[0m             \u001B[38;5;28mself\u001B[39m\u001B[38;5;241m.\u001B[39m_call_mpl_hook()\n\u001B[0;32m   1234\u001B[0m         \u001B[38;5;28mself\u001B[39m\u001B[38;5;241m.\u001B[39mprocess_internal_commands()\n\u001B[1;32m-> 1235\u001B[0m         \u001B[43mtime\u001B[49m\u001B[38;5;241;43m.\u001B[39;49m\u001B[43msleep\u001B[49m\u001B[43m(\u001B[49m\u001B[38;5;241;43m0.01\u001B[39;49m\u001B[43m)\u001B[49m\n\u001B[0;32m   1237\u001B[0m \u001B[38;5;28mself\u001B[39m\u001B[38;5;241m.\u001B[39mcancel_async_evaluation(get_current_thread_id(thread), \u001B[38;5;28mstr\u001B[39m(\u001B[38;5;28mid\u001B[39m(frame)))\n\u001B[0;32m   1239\u001B[0m \u001B[38;5;66;03m# process any stepping instructions\u001B[39;00m\n",
      "\u001B[1;31mKeyboardInterrupt\u001B[0m: "
     ]
    }
   ],
   "execution_count": 13
  },
  {
   "metadata": {
    "ExecuteTime": {
     "end_time": "2025-01-12T00:22:57.415647Z",
     "start_time": "2025-01-12T00:22:57.408903Z"
    }
   },
   "cell_type": "code",
   "source": [
    "data = np.array([[0.2, 0.2, 1], [0.8, 0.2, 1], [0.2, 0.8, 1], [0.8, 0.8, 1]]).T\n",
    "\n",
    "labels = np.array([[-1, -1, 1, 1]])\n",
    "perceptron_through_origin(data, labels, T=1000000)"
   ],
   "id": "90671c49e8631fd",
   "outputs": [
    {
     "name": "stdout",
     "output_type": "stream",
     "text": [
      "perfect th found!!\n",
      "mistakes made: 7\n"
     ]
    },
    {
     "data": {
      "text/plain": [
       "array([[-0.2],\n",
       "       [ 1.6],\n",
       "       [-1. ]])"
      ]
     },
     "execution_count": 15,
     "metadata": {},
     "output_type": "execute_result"
    }
   ],
   "execution_count": 15
  },
  {
   "metadata": {
    "ExecuteTime": {
     "end_time": "2025-01-13T09:08:12.807164Z",
     "start_time": "2025-01-13T09:08:12.775384Z"
    }
   },
   "cell_type": "code",
   "source": [
    "[2**(n+1) -1 for n in [1,10,20,30,40,50]]\n",
    "[3, 2047, 2097151, 2147483647, 2199023255551, 2251799813685247]\n"
   ],
   "id": "568c3aa5eeec896f",
   "outputs": [
    {
     "data": {
      "text/plain": [
       "[3, 2047, 2097151, 2147483647, 2199023255551, 2251799813685247]"
      ]
     },
     "execution_count": 18,
     "metadata": {},
     "output_type": "execute_result"
    }
   ],
   "execution_count": 18
  },
  {
   "metadata": {
    "ExecuteTime": {
     "end_time": "2025-01-13T09:28:45.735650Z",
     "start_time": "2025-01-13T09:28:45.727079Z"
    }
   },
   "cell_type": "code",
   "source": [
    "from week3_features.code_and_data_for_hw3.code_for_hw3_part1 import make_polynomial_feature_fun\n",
    "from itertools import combinations_with_replacement\n",
    "make_polynomial_feature_fun(2)\n",
    "\n",
    "for n in [1, 10, 20, 30, 40, 50]:\n",
    "    num_features = sum(len(list(combinations_with_replacement(\"AB\", i))) for i in range(0,n+1))\n",
    "    print(f\"number of monomials in a {n}-degree polynomial basis: {num_features}\")"
   ],
   "id": "232539a2b02dd005",
   "outputs": [
    {
     "name": "stdout",
     "output_type": "stream",
     "text": [
      "number of monomials in a 1-degree polynomial basis: 3\n",
      "number of monomials in a 10-degree polynomial basis: 66\n",
      "number of monomials in a 20-degree polynomial basis: 231\n",
      "number of monomials in a 30-degree polynomial basis: 496\n",
      "number of monomials in a 40-degree polynomial basis: 861\n",
      "number of monomials in a 50-degree polynomial basis: 1326\n"
     ]
    }
   ],
   "execution_count": 29
  },
  {
   "metadata": {
    "ExecuteTime": {
     "end_time": "2025-01-13T09:55:53.381100Z",
     "start_time": "2025-01-13T09:55:32.986821Z"
    }
   },
   "cell_type": "code",
   "source": [
    "from code_and_data_for_hw3.code_for_hw3_part1 import *\n",
    "test_with_features(super_simple_separable_through_origin,order=1)"
   ],
   "id": "611a159bfa30edbe",
   "outputs": [
    {
     "data": {
      "text/plain": [
       "<Figure size 640x480 with 1 Axes>"
      ],
      "image/png": "[encoded data removed]"
     },
     "metadata": {},
     "output_type": "display_data"
    },
    {
     "name": "stdout",
     "output_type": "stream",
     "text": [
      "th [[1. 2. 5.]] th0 [[1.]]\n",
      "th [[ 0. -1.  4.]] th0 [[0.]]\n",
      "th [[ -1. -13.  -1.]] th0 [[-1.]]\n",
      "th [[  0. -11.   4.]] th0 [[0.]]\n",
      "th [[ 1. -2. 10.]] th0 [[1.]]\n",
      "th [[  0. -14.   5.]] th0 [[0.]]\n",
      "th [[  1. -12.  10.]] th0 [[1.]]\n",
      "th [[ 2. -3. 16.]] th0 [[2.]]\n",
      "th [[  1. -15.  11.]] th0 [[1.]]\n",
      "th [[ 2. -6. 17.]] th0 [[2.]]\n",
      "th [[  1. -18.  12.]] th0 [[1.]]\n",
      "th [[ 2. -9. 18.]] th0 [[2.]]\n",
      "th [[ 2. -9. 18.]] th0 [[2.]]\n",
      "Final score 4\n",
      "Params [[ 2. -9. 18.]] [[2.]]\n"
     ]
    }
   ],
   "execution_count": 32
  }
 ],
 "metadata": {
  "kernelspec": {
   "display_name": "Python 3",
   "language": "python",
   "name": "python3"
  },
  "language_info": {
   "codemirror_mode": {
    "name": "ipython",
    "version": 2
   },
   "file_extension": ".py",
   "mimetype": "text/x-python",
   "name": "python",
   "nbconvert_exporter": "python",
   "pygments_lexer": "ipython2",
   "version": "2.7.6"
  }
 },
 "nbformat": 4,
 "nbformat_minor": 5
}

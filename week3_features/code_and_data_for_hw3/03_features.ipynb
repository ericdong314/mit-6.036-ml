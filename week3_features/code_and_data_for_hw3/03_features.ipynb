{
 "cells": [
  {
   "cell_type": "code",
   "id": "initial_id",
   "metadata": {
    "collapsed": true,
    "ExecuteTime": {
     "end_time": "2025-01-14T15:38:05.210483Z",
     "start_time": "2025-01-14T15:38:04.586313Z"
    }
   },
   "source": [
    "import numpy as np\n",
    "\n",
    "\n",
    "def perceptron_through_origin(data, labels, T=100, hook=None):\n",
    "    # if T not in params, default to 100\n",
    "    n_mistakes = 0\n",
    "\n",
    "    d, n = data.shape\n",
    "    th = np.zeros((d, 1))\n",
    "    for t in range(T):\n",
    "        made_mistake = False\n",
    "        for i in range(n):\n",
    "            x = data[:, i:i + 1]\n",
    "            y = labels[:, i:i + 1]\n",
    "            if y * (th.T @ x) <= 0:\n",
    "                th += y * x\n",
    "                made_mistake = True\n",
    "                n_mistakes += 1\n",
    "        if not made_mistake:\n",
    "            print(\"perfect th found!!\")\n",
    "            print(f\"mistakes made: {n_mistakes}\")\n",
    "            return th\n",
    "    print(\"perfect th not found :(\")\n",
    "    print(f\"mistakes made: {n_mistakes}\")\n",
    "    return th\n"
   ],
   "outputs": [],
   "execution_count": 1
  },
  {
   "metadata": {
    "ExecuteTime": {
     "end_time": "2025-01-14T15:38:05.218165Z",
     "start_time": "2025-01-14T15:38:05.215500Z"
    }
   },
   "cell_type": "code",
   "source": "",
   "id": "6cd56a1fc47609d0",
   "outputs": [],
   "execution_count": null
  },
  {
   "metadata": {
    "ExecuteTime": {
     "end_time": "2025-01-14T15:38:12.207862Z",
     "start_time": "2025-01-14T15:38:05.743179Z"
    }
   },
   "cell_type": "code",
   "source": [
    "data = np.array([[200, 0.2, 1], [800, 0.2, 1], [200, 0.8, 1], [800, 0.8, 1]]).T\n",
    "# data = np.array([[2, 0.2, 1], [8, 0.2, 1], [2, 0.8, 1], [8, 0.8, 1]]).T\n",
    "\n",
    "labels = np.array([[-1, -1, 1, 1]])\n",
    "perceptron_through_origin(data, labels, T=1000000)"
   ],
   "id": "d54f1a15437a15c2",
   "outputs": [
    {
     "name": "stdout",
     "output_type": "stream",
     "text": [
      "perfect th found!!\n",
      "mistakes made: 666696\n"
     ]
    },
    {
     "data": {
      "text/plain": [
       "array([[-2.000000e+02],\n",
       "       [ 2.000068e+05],\n",
       "       [-4.000000e+00]])"
      ]
     },
     "execution_count": 2,
     "metadata": {},
     "output_type": "execute_result"
    }
   ],
   "execution_count": 2
  },
  {
   "metadata": {
    "ExecuteTime": {
     "end_time": "2025-01-14T15:38:12.296985Z",
     "start_time": "2025-01-14T15:38:12.289033Z"
    }
   },
   "cell_type": "code",
   "source": [
    "data = np.array([[0.2, 0.2, 1], [0.8, 0.2, 1], [0.2, 0.8, 1], [0.8, 0.8, 1]]).T\n",
    "\n",
    "labels = np.array([[-1, -1, 1, 1]])\n",
    "perceptron_through_origin(data, labels, T=1000000)"
   ],
   "id": "90671c49e8631fd",
   "outputs": [
    {
     "name": "stdout",
     "output_type": "stream",
     "text": [
      "perfect th found!!\n",
      "mistakes made: 7\n"
     ]
    },
    {
     "data": {
      "text/plain": [
       "array([[-0.2],\n",
       "       [ 1.6],\n",
       "       [-1. ]])"
      ]
     },
     "execution_count": 3,
     "metadata": {},
     "output_type": "execute_result"
    }
   ],
   "execution_count": 3
  },
  {
   "metadata": {
    "ExecuteTime": {
     "end_time": "2025-01-14T15:38:13.937888Z",
     "start_time": "2025-01-14T15:38:12.662690Z"
    }
   },
   "cell_type": "code",
   "source": [
    "from code_for_hw3_part1 import make_polynomial_feature_fun\n",
    "from itertools import combinations_with_replacement\n",
    "\n",
    "make_polynomial_feature_fun(2)\n",
    "\n",
    "for n in [1, 10, 20, 30, 40, 50]:\n",
    "    num_features = sum(len(list(combinations_with_replacement(\"AB\", i))) for i in range(0, n + 1))\n",
    "    print(f\"number of monomials in a {n}-degree polynomial basis: {num_features}\")"
   ],
   "id": "232539a2b02dd005",
   "outputs": [
    {
     "name": "stdout",
     "output_type": "stream",
     "text": [
      "Importing code_for_hw03\n",
      "Imported tidy_plot, plot_separator, plot_data, plot_nonlin_sep, cv, rv, y, positive, score\n",
      "Datasets: super_simple_separable_through_origin(), super_simple_separable(), xor(), xor_more()\n",
      "Tests for part 2: test_linear_classifier_with_features, mul, make_polynomial_feature_fun, \n",
      "                  test_with_features\n",
      "Also loaded: perceptron, one_hot_internal, test_one_hot\n",
      "number of monomials in a 1-degree polynomial basis: 3\n",
      "number of monomials in a 10-degree polynomial basis: 66\n",
      "number of monomials in a 20-degree polynomial basis: 231\n",
      "number of monomials in a 30-degree polynomial basis: 496\n",
      "number of monomials in a 40-degree polynomial basis: 861\n",
      "number of monomials in a 50-degree polynomial basis: 1326\n"
     ]
    }
   ],
   "execution_count": 5
  },
  {
   "metadata": {
    "ExecuteTime": {
     "end_time": "2025-01-14T16:29:15.997751Z",
     "start_time": "2025-01-14T16:29:07.396201Z"
    }
   },
   "cell_type": "code",
   "source": [
    "import code_for_hw3_part2 as hw3\n",
    "\n",
    "# Returns a list of dictionaries.  Keys are the column names, including mpg.\n",
    "auto_data_all = hw3.load_auto_data('auto-mpg.tsv')\n",
    "\n",
    "# The choice of feature processing for each feature, mpg is always raw and\n",
    "# does not need to be specified.  Other choices are hw3.standard and hw3.one_hot.\n",
    "# 'name' is not numeric and would need a different encoding.\n",
    "features_1 = [('cylinders', hw3.raw),\n",
    "              ('displacement', hw3.raw),\n",
    "              ('horsepower', hw3.raw),\n",
    "              ('weight', hw3.raw),\n",
    "              ('acceleration', hw3.raw),\n",
    "              ## Drop model_year by default\n",
    "              ## ('model_year', hw3.raw),\n",
    "              ('origin', hw3.raw)]\n",
    "features_2 = [('cylinders', hw3.one_hot),\n",
    "              ('displacement', hw3.standard),\n",
    "              ('horsepower', hw3.standard),\n",
    "              ('weight', hw3.standard),\n",
    "              ('acceleration', hw3.standard),\n",
    "              ## Drop model_year by default\n",
    "              ## ('model_year', hw3.raw),\n",
    "              ('origin', hw3.one_hot)]\n",
    "features_3 = [('cylinders', hw3.one_hot),\n",
    "              ('weight', hw3.standard),\n",
    "              ]\n",
    "\n",
    "features_list = [features_1, features_2, features_3]\n",
    "\n",
    "# Construct the standard data and label arrays\n",
    "\n",
    "for T in [1, 10, 50]:\n",
    "    for i in range(len(features_list)):\n",
    "        auto_data, auto_labels = hw3.auto_data_and_labels(auto_data_all, features_list[i])\n",
    "        result = []\n",
    "        for alg in [hw3.perceptron, hw3.averaged_perceptron]:\n",
    "            result.append(hw3.xval_learning_alg(alg, auto_data, auto_labels, 10, T))\n",
    "        print(f\"T={T}, feature set {i + 1}: {result}\")\n"
   ],
   "id": "611a159bfa30edbe",
   "outputs": [
    {
     "name": "stdout",
     "output_type": "stream",
     "text": [
      "avg and std {}\n",
      "entries in one_hot field {}\n",
      "T=1, feature set 1: [np.float64(0.6526282051282052), np.float64(0.8441025641025641)]\n",
      "avg and std {'displacement': (388.3482142857143, 302.0458123396404), 'horsepower': (509.3545918367347, 333.65211517163635), 'weight': (2977.5841836734694, 848.3184465698363), 'acceleration': (15.541326530612244, 2.7553429127509967)}\n",
      "entries in one_hot field {'cylinders': [3.0, 4.0, 5.0, 6.0, 8.0], 'origin': [1.0, 2.0, 3.0]}\n",
      "T=1, feature set 2: [np.float64(0.7908333333333333), np.float64(0.9004487179487182)]\n",
      "avg and std {'weight': (2977.5841836734694, 848.3184465698363)}\n",
      "entries in one_hot field {'cylinders': [3.0, 4.0, 5.0, 6.0, 8.0]}\n",
      "T=1, feature set 3: [np.float64(0.6686538461538463), np.float64(0.8953205128205128)]\n",
      "avg and std {}\n",
      "entries in one_hot field {}\n",
      "T=10, feature set 1: [np.float64(0.7423076923076924), np.float64(0.8366025641025641)]\n",
      "avg and std {'displacement': (388.3482142857143, 302.0458123396404), 'horsepower': (509.3545918367347, 333.65211517163635), 'weight': (2977.5841836734694, 848.3184465698363), 'acceleration': (15.541326530612244, 2.7553429127509967)}\n",
      "entries in one_hot field {'cylinders': [3.0, 4.0, 5.0, 6.0, 8.0], 'origin': [1.0, 2.0, 3.0]}\n",
      "T=10, feature set 2: [np.float64(0.8061538461538461), np.float64(0.8979487179487181)]\n",
      "avg and std {'weight': (2977.5841836734694, 848.3184465698363)}\n",
      "entries in one_hot field {'cylinders': [3.0, 4.0, 5.0, 6.0, 8.0]}\n",
      "T=10, feature set 3: [np.float64(0.6884615384615385), np.float64(0.8953205128205128)]\n",
      "avg and std {}\n",
      "entries in one_hot field {}\n",
      "T=50, feature set 1: [np.float64(0.6909615384615384), np.float64(0.8366025641025641)]\n",
      "avg and std {'displacement': (388.3482142857143, 302.0458123396404), 'horsepower': (509.3545918367347, 333.65211517163635), 'weight': (2977.5841836734694, 848.3184465698363), 'acceleration': (15.541326530612244, 2.7553429127509967)}\n",
      "entries in one_hot field {'cylinders': [3.0, 4.0, 5.0, 6.0, 8.0], 'origin': [1.0, 2.0, 3.0]}\n",
      "T=50, feature set 2: [np.float64(0.8060256410256409), np.float64(0.9005128205128207)]\n",
      "avg and std {'weight': (2977.5841836734694, 848.3184465698363)}\n",
      "entries in one_hot field {'cylinders': [3.0, 4.0, 5.0, 6.0, 8.0]}\n",
      "T=50, feature set 3: [np.float64(0.7238461538461539), np.float64(0.8953205128205128)]\n"
     ]
    }
   ],
   "execution_count": 16
  },
  {
   "metadata": {},
   "cell_type": "code",
   "outputs": [],
   "execution_count": null,
   "source": "",
   "id": "ae68178583f66eb5"
  },
  {
   "metadata": {
    "ExecuteTime": {
     "end_time": "2025-01-14T16:19:57.248960Z",
     "start_time": "2025-01-14T16:19:57.238472Z"
    }
   },
   "cell_type": "code",
   "source": [
    "auto_data, auto_labels = hw3.auto_data_and_labels(auto_data_all, features_2)\n",
    "hw3.averaged_perceptron(auto_data, auto_labels, {\"T\": 1})"
   ],
   "id": "1cc2c5c6771bc26c",
   "outputs": [
    {
     "name": "stdout",
     "output_type": "stream",
     "text": [
      "avg and std {'displacement': (388.3482142857143, 302.0458123396404), 'horsepower': (509.3545918367347, 333.65211517163635), 'weight': (2977.5841836734694, 848.3184465698363), 'acceleration': (15.541326530612244, 2.7553429127509967)}\n",
      "entries in one_hot field {'cylinders': [3.0, 4.0, 5.0, 6.0, 8.0], 'origin': [1.0, 2.0, 3.0]}\n"
     ]
    },
    {
     "data": {
      "text/plain": [
       "(array([[-0.25510204],\n",
       "        [ 0.98469388],\n",
       "        [ 0.        ],\n",
       "        [ 0.4744898 ],\n",
       "        [-0.52040816],\n",
       "        [ 0.0977406 ],\n",
       "        [-0.89763413],\n",
       "        [-1.84711922],\n",
       "        [ 0.06270238],\n",
       "        [-0.04591837],\n",
       "        [ 0.98469388],\n",
       "        [-0.25510204]]),\n",
       " array([[0.68367347]]))"
      ]
     },
     "execution_count": 15,
     "metadata": {},
     "output_type": "execute_result"
    }
   ],
   "execution_count": 15
  },
  {
   "metadata": {
    "ExecuteTime": {
     "end_time": "2025-01-15T13:02:13.991967Z",
     "start_time": "2025-01-15T13:02:05.214153Z"
    }
   },
   "cell_type": "code",
   "source": [
    "#-------------------------------------------------------------------------------\n",
    "# Review Data\n",
    "#-------------------------------------------------------------------------------\n",
    "\n",
    "# Returns lists of dictionaries.  Keys are the column names, 'sentiment' and 'text'.\n",
    "# The train data has 10,000 examples\n",
    "review_data = hw3.load_review_data('reviews.tsv')\n",
    "\n",
    "# Lists texts of reviews and list of labels (1 or -1)\n",
    "review_texts, review_label_list = zip(*((sample['text'], sample['sentiment']) for sample in review_data))\n",
    "\n",
    "# The dictionary of all the words for \"bag of words\"\n",
    "dictionary = hw3.bag_of_words(review_texts)\n",
    "\n",
    "# The standard data arrays for the bag of words\n",
    "review_bow_data = hw3.extract_bow_feature_vectors(review_texts, dictionary)\n",
    "review_labels = hw3.rv(review_label_list)\n",
    "print('review_bow_data and labels shape', review_bow_data.shape, review_labels.shape)\n",
    "\n",
    "#-------------------------------------------------------------------------------\n",
    "# Analyze review data\n",
    "#-------------------------------------------------------------------------------\n",
    "\n",
    "# Your code here to process the review data\n",
    "accuracies = []\n",
    "for T in [1, 10, 50]:\n",
    "    for alg in (hw3.perceptron, hw3.averaged_perceptron):\n",
    "        accuracy = hw3.xval_learning_alg(alg, review_bow_data, review_labels, 10, T)\n",
    "        print(accuracy)\n",
    "        accuracies.append((T, alg.__name__, accuracy))\n",
    "print(accuracies)\n"
   ],
   "id": "f6a306236fe10675",
   "outputs": [
    {
     "name": "stdout",
     "output_type": "stream",
     "text": [
      "review_bow_data and labels shape (19945, 10000) (1, 10000)\n"
     ]
    },
    {
     "ename": "KeyboardInterrupt",
     "evalue": "",
     "output_type": "error",
     "traceback": [
      "\u001B[1;31m---------------------------------------------------------------------------\u001B[0m",
      "\u001B[1;31mKeyboardInterrupt\u001B[0m                         Traceback (most recent call last)",
      "Cell \u001B[1;32mIn[17], line 28\u001B[0m\n\u001B[0;32m     26\u001B[0m \u001B[38;5;28;01mfor\u001B[39;00m T \u001B[38;5;129;01min\u001B[39;00m [\u001B[38;5;241m1\u001B[39m,\u001B[38;5;241m10\u001B[39m,\u001B[38;5;241m50\u001B[39m]:\n\u001B[0;32m     27\u001B[0m     \u001B[38;5;28;01mfor\u001B[39;00m alg \u001B[38;5;129;01min\u001B[39;00m (hw3\u001B[38;5;241m.\u001B[39mperceptron, hw3\u001B[38;5;241m.\u001B[39maveraged_perceptron):\n\u001B[1;32m---> 28\u001B[0m         accuracy \u001B[38;5;241m=\u001B[39m \u001B[43mhw3\u001B[49m\u001B[38;5;241;43m.\u001B[39;49m\u001B[43mxval_learning_alg\u001B[49m\u001B[43m(\u001B[49m\u001B[43malg\u001B[49m\u001B[43m,\u001B[49m\u001B[43mreview_bow_data\u001B[49m\u001B[43m,\u001B[49m\u001B[43mreview_labels\u001B[49m\u001B[43m,\u001B[49m\u001B[38;5;241;43m10\u001B[39;49m\u001B[43m,\u001B[49m\u001B[43mT\u001B[49m\u001B[43m)\u001B[49m\n\u001B[0;32m     29\u001B[0m         \u001B[38;5;28mprint\u001B[39m(accuracy)\n\u001B[0;32m     30\u001B[0m         accuracies\u001B[38;5;241m.\u001B[39mappend((T,alg\u001B[38;5;241m.\u001B[39m\u001B[38;5;18m__name__\u001B[39m,accuracy))\n",
      "File \u001B[1;32m~\\Git Projects\\mit-6.036-ml\\week3_features\\code_and_data_for_hw3\\code_for_hw3_part2.py:210\u001B[0m, in \u001B[0;36mxval_learning_alg\u001B[1;34m(learner, data, labels, k, T)\u001B[0m\n\u001B[0;32m    208\u001B[0m     data_test \u001B[38;5;241m=\u001B[39m np\u001B[38;5;241m.\u001B[39marray(s_data[i])\n\u001B[0;32m    209\u001B[0m     labels_test \u001B[38;5;241m=\u001B[39m np\u001B[38;5;241m.\u001B[39marray(s_labels[i])\n\u001B[1;32m--> 210\u001B[0m     score_sum \u001B[38;5;241m+\u001B[39m\u001B[38;5;241m=\u001B[39m \u001B[43meval_classifier\u001B[49m\u001B[43m(\u001B[49m\u001B[43mlearner\u001B[49m\u001B[43m,\u001B[49m\u001B[43m \u001B[49m\u001B[43mdata_train\u001B[49m\u001B[43m,\u001B[49m\u001B[43m \u001B[49m\u001B[43mlabels_train\u001B[49m\u001B[43m,\u001B[49m\n\u001B[0;32m    211\u001B[0m \u001B[43m                                          \u001B[49m\u001B[43mdata_test\u001B[49m\u001B[43m,\u001B[49m\u001B[43m \u001B[49m\u001B[43mlabels_test\u001B[49m\u001B[43m,\u001B[49m\u001B[43m \u001B[49m\u001B[43mT\u001B[49m\u001B[43m)\u001B[49m\n\u001B[0;32m    212\u001B[0m \u001B[38;5;28;01mreturn\u001B[39;00m score_sum\u001B[38;5;241m/\u001B[39mk\n",
      "File \u001B[1;32m~\\Git Projects\\mit-6.036-ml\\week3_features\\code_and_data_for_hw3\\code_for_hw3_part2.py:191\u001B[0m, in \u001B[0;36meval_classifier\u001B[1;34m(learner, data_train, labels_train, data_test, labels_test, T)\u001B[0m\n\u001B[0;32m    190\u001B[0m \u001B[38;5;28;01mdef\u001B[39;00m \u001B[38;5;21meval_classifier\u001B[39m(learner, data_train, labels_train, data_test, labels_test, T):\n\u001B[1;32m--> 191\u001B[0m     th, th0 \u001B[38;5;241m=\u001B[39m \u001B[43mlearner\u001B[49m\u001B[43m(\u001B[49m\u001B[43mdata_train\u001B[49m\u001B[43m,\u001B[49m\u001B[43m \u001B[49m\u001B[43mlabels_train\u001B[49m\u001B[43m,\u001B[49m\u001B[43m \u001B[49m\u001B[43mparams\u001B[49m\u001B[43m \u001B[49m\u001B[38;5;241;43m=\u001B[39;49m\u001B[43m \u001B[49m\u001B[43m{\u001B[49m\u001B[38;5;124;43m\"\u001B[39;49m\u001B[38;5;124;43mT\u001B[39;49m\u001B[38;5;124;43m\"\u001B[39;49m\u001B[43m:\u001B[49m\u001B[43mT\u001B[49m\u001B[43m}\u001B[49m\u001B[43m)\u001B[49m\n\u001B[0;32m    192\u001B[0m     \u001B[38;5;28;01mreturn\u001B[39;00m score(data_test, labels_test, th, th0)\u001B[38;5;241m/\u001B[39mdata_test\u001B[38;5;241m.\u001B[39mshape[\u001B[38;5;241m1\u001B[39m]\n",
      "File \u001B[1;32m~\\Git Projects\\mit-6.036-ml\\week3_features\\code_and_data_for_hw3\\code_for_hw3_part2.py:159\u001B[0m, in \u001B[0;36mperceptron\u001B[1;34m(data, labels, params, hook)\u001B[0m\n\u001B[0;32m    157\u001B[0m             theta \u001B[38;5;241m=\u001B[39m theta \u001B[38;5;241m+\u001B[39m y \u001B[38;5;241m*\u001B[39m x\n\u001B[0;32m    158\u001B[0m             theta_0 \u001B[38;5;241m=\u001B[39m theta_0 \u001B[38;5;241m+\u001B[39m y\n\u001B[1;32m--> 159\u001B[0m             \u001B[38;5;28;01mif\u001B[39;00m hook: hook((theta, theta_0))\n\u001B[0;32m    160\u001B[0m \u001B[38;5;28;01mreturn\u001B[39;00m theta, theta_0\n",
      "\u001B[1;31mKeyboardInterrupt\u001B[0m: "
     ]
    }
   ],
   "execution_count": 17
  },
  {
   "metadata": {
    "ExecuteTime": {
     "end_time": "2025-01-15T13:03:56.277307Z",
     "start_time": "2025-01-15T13:03:47.310444Z"
    }
   },
   "cell_type": "code",
   "source": [
    "th, th0 = hw3.averaged_perceptron(review_bow_data, review_labels, {\"T\": 10})\n",
    "print(th)"
   ],
   "id": "f3aa3a342d86172d",
   "outputs": [
    {
     "name": "stdout",
     "output_type": "stream",
     "text": [
      "[[ 0.15984]\n",
      " [-2.74048]\n",
      " [-1.23668]\n",
      " ...\n",
      " [ 0.     ]\n",
      " [-1.2001 ]\n",
      " [ 0.     ]]\n"
     ]
    }
   ],
   "execution_count": 18
  },
  {
   "metadata": {
    "ExecuteTime": {
     "end_time": "2025-01-15T13:18:39.354761Z",
     "start_time": "2025-01-15T13:18:39.289397Z"
    }
   },
   "cell_type": "code",
   "source": [
    "top_indices = np.argsort(np.hstack(th))[::-1][:10]\n",
    "worst_indices = np.argsort(np.hstack(th))[:10]\n",
    "index_to_word = hw3.reverse_dict(dictionary)\n",
    "print([index_to_word[i] for i in top_indices])\n",
    "print([index_to_word[i] for i in worst_indices])\n"
   ],
   "id": "9a124b744b5a0700",
   "outputs": [
    {
     "name": "stdout",
     "output_type": "stream",
     "text": [
      "['excellent', 'delicious', 'satisfied', 'easily', 'perfect', 'skeptical', 'yummy', 'bright', 'individually', 'great']\n",
      "['worst', 'awful', 'unfortunately', 'horrible', 'stuck', 'changed', 'disappointment', 'bland', 'poor', 'formula']\n"
     ]
    }
   ],
   "execution_count": 29
  },
  {
   "metadata": {
    "ExecuteTime": {
     "end_time": "2025-01-15T13:33:18.274455Z",
     "start_time": "2025-01-15T13:33:18.142634Z"
    }
   },
   "cell_type": "code",
   "source": [
    "scaled_magins = (th.T @ review_bow_data + th0)\n",
    "best_index = np.argmax(scaled_magins)\n",
    "worst_indices = np.argmin(scaled_magins)\n",
    "print(review_texts[best_index])\n"
   ],
   "id": "a6c16590e39c0195",
   "outputs": [
    {
     "name": "stdout",
     "output_type": "stream",
     "text": [
      "My boyfriend and I received the Keurig Elite brewer as a Christmas gift after lusting after the brewers all of my friends and family owned.  We have been using a trusty Cuisinart 10-cup drip brewer for a couple of years now, and while it has served us well, it was a challenge to get a consistent cup of coffee.  Somehow we always ended up on either the too-strong or two-weak side of the line, despite our best efforts to be consistent.<br /><br />I should mention that we are students living on a very strict budget and we knew that the Keurig would end up being a little bit more costly than our Cuisinart.  But we really liked the idea of brewing coffee a cup at a time and cutting down on waste.  Thankfully, my generous sister surprised us with one for Christmas and it has really turned out to be a perfect gift!<br /><br />WARNING!<br /><br />I feel it is important to mention that we almost sent this back.  Considering how I've been singing its praises, I'm sure this is surprising, but there is something that ALL new Keurig owners should be made aware of.  The first maybe six or so cups aren't going to taste quite right.  Apparently this is a common problem.  There is a sort of plastic-y taste going on, even with coffees that don't normally have that fake finish.  It's the newness of the brewer.  Run five cups of straight water through it and then one cup of white vinegar to get rid of this problem.  I can't imagine how many people must have received one of these and then written it off immediately because of this issue.  It's a quick fix and a one-time deal, so be aware of that ahead of time.<br /><br />Now... as I was saying:<br /><br />The Keurig Elite is the entry level of the full size brewers (Keurig also makes a Mini, but we have friends who have had problems with that model).  It has a great water carafe that only needs to be refilled once every six cups (convenient!).  There is no digital display unlike some of the higher end models, but we don't find that a problem.  For those wanting to set up brew times in advance, though, that might be a make-or-break feature.  We manage just fine without it in our household.  It has the two cup sizes and, although they are only two ounces apart in size, the difference between the two can be quite dramatic.  I like a milder cup of coffee while my boyfriend prefers something stronger so I brew on the larger size while he picks the more potent smaller for his cup.<br /><br />When we turn the power on in the morning it takes about 3 minutes for the brewer to heat up and then it really truly does brew the cup in less than a minute.  SO convenient when you want to make a quick cup on your way out the door!  No muss, no fuss.<br /><br />We tried out several pods from the 12 k-cup sample pack the brewer came with (another bonus!) and since then we've also tried out a few of Keurig's other offerings.  It's really hit-and-miss in terms of what you'll like and what will be positively NOT your cup of coffee.  Here are some of the blends we have tried and enjoyed:<br /><br /><a href=\"http://www.amazon.com/gp/product/B00474OR8G\">Caribou Coffee, Caribou Blend, K-Cup Portion Pack for Keurig K-Cup Brewers, 24-Count</a> - Our standard go-to good cup of coffee.  Nothing fancy or amazing, but consistently good flavor.  You can't go wrong with this medium roast.<br /><a href=\"http://www.amazon.com/gp/product/B003JA5KLM\">Green Mountain Coffee Nantucket Blend, 24-Count K-Cups for Keurig Brewers (Pack of 2)</a> - An alternative to the Caribou Blend that might be easier to find in most stores.  One of the few Green Mountain cups that I've tried and enjoyed.<br /><a href=\"http://www.amazon.com/gp/product/B005IPJTZE\">Swiss miss Hot Cocoa K-Cup, Milk Chocolate, 12-Count</a> - The only hot chocolate k-cup we've tried and enjoyed so far.  It is artificially sweetened and you can tell that immediately, but it isn't weak or watery and definitely gets the job done.  Tip: shake the pod before you put it in the machine to loosen the powder.<br /><br />The only thing I don't like about the Keurig and its pod system, however, is that the pods are wasteful and non-recyclable.  Very disappointing.  Keurig is reportedly working on making a recyclable pod, but until that comes out I feel a bit guilty about going through the pods so quickly.  However, there is a solution to this problem!  We picked up the <a href=\"http://www.amazon.com/gp/product/B0051SU0OW\">ekobrew Cup, Refillable Cup For Keurig K-Cup Brewers, Brown, 1-Count</a> to use with our brewer!  And it has been perfect!  I'm Canadian so every time I visit home I pick up a big drum of Tim Horton's coffee (the best cheap coffee money can buy) and I can still use it in this little reuseable k cup.  Some reviewers had said that the ekobrew doesn't work with all Keurig models but I can attest to the fact that it works perfectly with the Elite brewer.  Apparently it is leaps and bounds better than Keurig's own reuseable My K Cup pod.  It's definitely worth the $10!<br /><br />Honestly, you really can't go wrong with the Keurig Elite.  We love it as a one-cup brewer without all the bells and whistles and we can't wait to try out the new pods we're set to receive from the included buy 2 get 2 free promotion through Keurig's website.\n"
     ]
    }
   ],
   "execution_count": 33
  },
  {
   "metadata": {
    "ExecuteTime": {
     "end_time": "2025-01-15T13:33:24.717018Z",
     "start_time": "2025-01-15T13:33:24.713343Z"
    }
   },
   "cell_type": "code",
   "source": "print(review_texts[worst_indices])\n",
   "id": "1559f6220033aa3d",
   "outputs": [
    {
     "name": "stdout",
     "output_type": "stream",
     "text": [
      "Fuzzy Wuzzy's Summary:<br />*** Somewhat recommended, with reservations and only lukewarm fuzzies.<br /><br />Positives:<br /><br />+ Not too expensive compared to other bottled water, although it is not cheap either.<br /><br />Negatives:<br /><br />- This bottled water product's labeling, product descriptions, and health claims are misleading.<br /><br />At first glance, this 1.5-liter bottle of water that I am reviewing looks like another one of the many varieties of bottled water on the market.  There are many kinds of bottled water: \"spring water\" produced from an underground formation where the groundwater naturally flows up to the Earth's surface, \"artesian water\" obtained from a well that taps into an underground aquifer, \"mineral water\" produced from a well or spring that naturally contains trace amounts of minerals that some people consider to provide health benefits, \"ground/well water\" produced from a well that tapes into an aquifer, \"sparkling water\" from a spring or well that is naturally carbonated, and \"purified water\" produced by distillation, deionization, reverse osmosis, or other purification processes.  This Essentia Drinking Water is \"purified water\"; this bottle contains municipal water (i.e. tap water that comes from your faucet) that is purified using reverse osmosis and ultraviolet light for disinfection.<br /><br />The label on this Essentia water bottle is filled with marketing hype and technical terms designed to make it sound exotic:<br />* \"Infused with Electrolytes For A Difference You Can Taste\"<br />* \"Silky Smooth Taste\"<br />* \"Hydrates Better\"<br />* \"Electrolytes Infused\"<br />* \"Best Available pH at 9.5\"<br />* \"Doctor recommended to protect, improve, and enhance the quality of your health.\"<br />* \"Our Proprietary Technology: Water purified by reverse osmosis; infused with electrolytes for taste; alkalinized and restructured using Ionic Separation Technology.\"<br />* \"Ingredients: purified water, sodium bicarbonate, dipotassium phosphate, magnesium sulfate, calcium chloride.\"<br /><br />There are two ways to evaluate this water product.  One way to review this water is based on how it tastes, how safe are its added ingredients, and its cost.  Since Essentia includes a variety of health claims and marketing statements on the water bottle's label, on the Amazon product listing, and on the company's Web site, the veracity of this statements must also be scrutinized since the marketing hype of most other brands of bottled water is just limited to the \"freshness\" or \"purity\" of their taste without making other health-related claims.<br /><br />First, on the basis on its cost, with all of its marketing hype and hoopla, at least this water is not priced far more expensive than most other brands of bottled water.  But there are various other bottled water products on Amazon that cost less on a per-liter basis.  And if you think that this slightly pricey water can be justified based on its health \"merits\", keep reading...<br /><br />As for taste, that can be a highly personal preference, but I like my water to simply taste \"wet\".  :-)  If I want some kind of flavored drink - tea, wine, beer, fruit juice, etc. - I will drink that instead.  But nothing hydrates and quenches as easily as pure and simple water, with no additives or flavorings added to it.  This particular Essentia water does have a smooth texture to it.  Most other bottled waters taste more crisp than this Essentia water.  Again, you may either like the smooth texture of this water or you may think that its texture is rather flat and bland.  Unlike drinking \"distilled water\", or bottled water that was purified using distillation with no additives, this water has a very slight subtle aftertaste that might be considered as either \"chalky\" or \"metallic\".  Those are my highly subjective adjectives that I associate with this water.  I can only surmise that this is due to the small amounts of additives that were used in this water.  This aftertaste is not too objectionable, but if I just want to hydrate myself drinking \"water\", I really prefer my water to be without any identifiable taste, texture, or odor.<br /><br />Next, since this is not just a bottle of pure H2O water, let's consider what was added to this water: sodium bicarbonate, dipotassium phosphate, magnesium sulfate, and calcium chloride.  Sodium bicarbonate is the same thing as baking soda.  This water was made to have a slightly alkaline pH of 9.5 by adding sodium bicarbonate.  People sometimes also adjust and raise the pH of their swimming pool water by adding sodium bicarbonate.  Dipotassium phosphate is sometimes added to various food products as a buffering agent or emulsifier.  In this water, it serves as one of the \"electrolytes\" that is added.  The term \"electrolytes\" is just a subset of minerals that are found in both the Earth and the food that we eat.  Also serving as an electrolyte is the addition of magnesium sulfate.  Magnesium sulfate is sold in drug stores as \"Epsom Salt\", and you can either soak your feet or body in an Epsom Salt bath to soothe sore muscles, or when ingested in larger quantities, magnesium sulfate also can serve as a laxative.  Calcium chloride serves as another electrolyte in this water.  Calcium chloride is sometimes used as a food additive.  The trace amounts of calcium, magnesium, and phosphorus in this water do not qualify as a measurable part of your daily nutritional intake of these minerals, regardless of how much of this water you drink each day.<br /><br />Essentia is definitely not the first bottled water manufacturer to add electrolytes to either bottled water or drinks.  During the 1960s, Gatorade was possibly the first large-scale commercial drink that was produced with the goal of adding electrolytes of sodium, sugar, potassium, and phosphate to hydrate and replenish athletes who lost fluids during physical exertion in hot weather.  On Essentia's Web site, they have an FAQ question/answer of: \"Why should I drink Essentia if I get my electrolytes through sports drinks?  Essentia provides a blend of dissolved minerals that emulate the ratio of the body's own mixture and concentration - providing the correct proportion of electrolytes without all the sugars and other additives you typically find in sports and energy drinks.\"  There are several problems with that statement.  First, if you are actively exercising and sweating, your body can actually use those extra calories, and if you are just sitting in front of the computer or television, guzzling Gatorade just adds useless calories and electrolytes.  Second, if you are drinking Essentia at home, this product's claim that it provides \"the correct proportion of electrolytes\" implies a one-size-fits-all balance of electrolytes, which is simply not true as we all have different bodies, diets, and lifestyles.<br /><br />None of what Essentia refers to as \"Our Proprietary Technology\" is really that \"proprietary\" or exotic.  The reverse osmosis purification of municipal tap water is commonly used to produce bottled water, and the addition of various electrolytes or minerals to water has been practiced by other bottled water manufacturers for many decades now.  Some people think that drinking plain distilled water tastes boring and, mentally at least, they like the idea that drinking water that is naturally infused with minerals from a spring or well/aquifer adds an extra measure of health benefits.  The addition of trace minerals do add noticeable flavor that mimics natural spring water.  Also, slightly flavoring the water with minerals masks the residual odors that can be left by the plastic water bottle; the plastic odor is still there, but you notice it less.  The same principle applies to using a room deodorizer to mask the existing odors in a house; that old cat urine smell is still present inside the house, but you notice it less and therefore the house smells fresher.  The most common electrolytes/minerals in spring water are calcium, magnesium, potassium, sodium, sulfate, and chloride.  The Coca-Cola company markets a \"Dasani\" bottled water that, like this Essentia, is municipal tap water purified via reverse osmosis.  Dasani has magnesium sulfate and potassium chloride added to it.  Perhaps the Dasani taste testing panels decided that their water tastes better without the addition of calcium?  But for whatever reasons, this Essentia water has a slight residual \"chalky\" or \"metallic\" aftertaste, as if it had a tannic undertone like the aftertaste after drinking a dry red wine, that I do not really care for.  I do not want my drinking water to leave a subtle aftertaste in my mouth.<br /><br />Essentia also competes directly with \"Glaceau Smart Water\", which takes an approach similar to Essentia's water.  Glaceau Smart Water is municipal water purified via distillation, and then infused with the similar ingredients of calcium chloride, magnesium chloride, and potassium bicarbonate.<br /><br />Not to be outdone, another of Essentia's alkaline/electrolyte water competitors, named \"NEO Water\" (to ride on the futuristic coattails of \"The Matrix\" fame??), pumps out even more junk science drivel filled with fear-mongering misleading statements, calling itself \"Alkaline, Electrolyte, Antioxidant Super Hydrator ... ultra purified healthy and refreshing water formulated through proprietary technology to balance, revitalize and propel you unlike any traditional water\", and \"NEO's unique antioxidants neutralize free radicals the body releases when under exertion\".  But when you really dig further into NEO Water's claims, there are *NO* antioxidants in NEO Water... just potassium bicarbonate, calcium chloride, magnesium chloride, which is similar to the mundane chemicals added to Essentia and Dasani water.  NEO Water's marketing nonsense says that its \"alkalinity allows its molecules to carry more oxygen than normal with an extra attached electron (hydroxyl ions). As a result, these molecules are able to seek and neutralize free radicals in your body and prevent free radical damage to your cells. These natural antioxidant benefits leave your body rich in oxygen and energy.\"  Again, like Essentia, NEO Water hopes to blind and persuade the consumer by overwhelming you with exotic totally false techno-babble; it ascribes its antioxidant benefits entirely to its 9.5 pH alkalinity.  So if you really believe in this nonsense, you could, in theory, obtain far more amazing antioxidant protection simply by dissolving an antacid tablet into your tap water once a day.  As with Essentia's water, NEO Water's \"ultra purified\" water is simply municipal tap water purified using the common method of reverse osmosis.<br /><br />This Essentia Drinking Water is not the first product to tout the benefits of \"alkaline water\".  There have been previous highly-hyped products based on ionized water, alkaline water, and combination alkaline-ionized water.  There have even been so-called \"liquid oxygen\" drops that supposedly contained \"O4\" molecules (instead of the \"O2\" oxygen that is in the air) dissolved in a liquid, and by ingesting 10 drops each day, you feel more energized, but this quackery completely ignores the fact that oxygen is best utilized in the lungs, and not in the stomach.  Just as the \"liquid oxygen\" drops are a distorted version of twisted junk science based on the concept of oxygen bars (at least in oxygen bars, you do breathe in the oxygen instead of putting drops of useless oxygen in your stomach), this \"alkaline water\" concept is a distortion of the \"alkaline diet\" alternative medicine belief that the foods we eat can affect the acidity of urine and blood, which can then affect our well-being, susceptibility to disease, and energy level.  If you are an avid vegan/vegetarian practitioner of an alkaline diet, then this 9.5-pH alkaline water can keep your diet on its alkaline-based theme.  But if you regularly eat meats, poultry, seafood, dairy products, eggs, grains, processed sugar foods, and colas/sodas, all of which significantly boost the acidic levels of your food consumption, then drinking a slightly alkaline water makes absolutely no difference to your health.<br /><br />Your stomach has a healthily acidic pH that ranges between 1.45 to 3.5; your stomach must be very acidic to aid in digestion.  However, blood must always be slightly alkaline, with a pH of 7.35 to 7.45.  If the blood's pH drops below 6.8 (more acidic) or rises above 7.8 (more alkaline), death may occur.  But your blood automatically stays within its healthy pH range regardless of what you eat or drink because your blood utilizes several buffering systems.  The most important buffer for maintaining acidity/alkalinity balance in the blood is called the carbonic-acid-bicarbonate buffer.  To form the bicarbonate in this buffering system, your body uses carbon dioxide... guess what, carbon dioxide is in (over)abundance in the air that you breathe and you do not need sodium bicarbonate baking soda added to your drinking water to maintain a healthy pH in your body.  In fact, consuming too much supplemental sodium bicarbonate can actually lead to constipation, convulsions, diarrhea, frequent urination, and vomiting.  There is only a tiny amount of sodium bicarbonate in each bottle of Essentia water, so you do not have to worry about overdose.  But my point is that all this hoopla and hype about this water being of the \"Best Available pH at 9.5\" is purified nonsense.  Some other fear-mongering alkaline water sales gimmicks claim that, to quote another Web site, \"Excess acidity weakens all our systems and forces the body to take minerals from vital organs and bones to buffer/neutralize the acid and safely remove it from the body.\"  But this is totally false fear-based junk science contrived to mislead you into thinking that your body will rob its vital organs and bones of minerals to neutralize excess acidity.  But our body's carbonic-acid-bicarbonate buffer simply combines carbon dioxide (CO2) in the air with water to make the blood plasma more acidic if it needs to, and it can prevent excess plasma acidity and raise its pH to be more alkaline by having the lungs convert the bicarbonate back into CO2 which you then breathe out.  A similar phosphate buffering system also helps to maintain the pH of cellular fluids, using phosphate instead of bicarbonate.  Phosphorus is present in nearly all foods, and regardless of whether you like to eat lots of meats or lots of vegetables, you can get plenty of sufficient phosphorus in your diet without needing to add it to your drinking water!<br /><br />Drinking too many acidic drinks such as sodas and colas can have a detrimental effect of eroding your tooth enamel, but guzzling all those colas have absolutely no effect on the pH of your cells and bodily fluids.  And regardless of how much alkalinity you consume and put in your stomach, your body is going to make sure that your stomach stays within a healthy acidic pH range and your body will use its pH buffering systems to keep your blood pH between 7.35 and 7.45 regardless of how much acidic or alkaline food and drink you consume. If you are familiar with logarithms, also realize that the pH scale is logarithmic (pH is not a linear scale) and drinking 9.5 pH water really has no effect on your various bodily fluids compared with drinking tap water or any other bottled water. And if you really could somehow artifically adjust your stomach, blood, and bodily fluids entirely to a 9.5 pH, you would be immediately wheeled into a hospital's emergency room because your body and its stomach cannot handle that kind of alkalinity.<br /><br />If you suffer from frequent heartburn or acid reflux disease (gastroesophageal reflux disease), drinking this 9.5 pH water will NOT help the least bit.  Your stomach acids need to constantly stay very acidic to maintain proper digestive functions, and the slight alkalinity of this water has no effect on the stomach acid that is entering into the esophagus of people with GERD.<br /><br />Trying to market bottled water based on its \"silky smooth taste\" and \"hydrates better\" claims, its over-hyped \"9.5 pH\" attribute, and all its overexaggerated health claims constitute marketing trickery to fool consumers by utilizing the \"if you believe that it can really work, it does indeed work\" placebo effect.  The placebo effect is a very powerful phenomenon that can frequently affect everything from clinical trials of pharmacological substances to faith healing.  Basically, if you have a hopeful mindset of expectancy and conditioning that makes you think that something will work, then that perception can become 100% of your subjectively observed reality and outcome of the treatment.  For examples of other placebo effects: If I told you that you can get stronger bones by breathing milk through your nose instead of drinking it through your mouth, or if I told you that you could be revitalized by just holding broccoli in your hands for two minutes every day instead of eating it, if you really believe or hope that to be true, then after breathing the milk into your nose or holding the broccoli in your hands, you may think to yourself, \"Gee, I feel better, stronger, and more energetic after having done that!\"  Likewise, if you really HOPE to feel more hydrated after drinking this Essentia water, you may actually feel more refreshed simply because you BELIEVE that this water is hydrating you better than drinking other sources of water, when in fact the tap water from your faucet could have hydrated you just as refreshingly.<br /><br />The Amazon 'Product Description' for this Essentia water falsely states even more overexaggerated health claims: \"Essentia Water provides unmatched hydration, health benefits and smooth taste.  Its superior hydrating qualities come from a special electrolyte formula and optimal pH level of 9.5, which gives your body more of what it needs to thrive.  Drinking Essentia Water boosts the antioxidant properties of your immune system and helps bring your body back into balance.  It also helps maintain normal blood pressure, restful sleep, heart health, muscle strength and more.\"  Again... these claims are way wayyyy overexaggerated!  Compared to your overall health, fitness level, and daily food diet, the trace minerals found in this water and this water's slight alkalinity really make no difference in boosting the \"antioxidant properties of your immune system\", nor does it \"help maintain normal blood pressure, restful sleep, heart health, muscle strength and more\".  With this litany of false health claims, I am surprised that they also did not pile on claims that this water \"increases libido, cures erectile dysfunction, grows hair on balding men, makes women sexy, and fixes the national debt\" too.<br /><br />Fuzzy Wuzzy's Conclusion:<br /><br />I must admit that I personally do not regularly purchase bottled water for home use, even though I will sometimes buy it while I am away from home, both because I think that filtering my tap water through a Brita filter produces water that is just as tasty and healthy as bottled water and, just as important, I think that too much plastic (and petroleum) is used in the production of bottled water and most plastic bottles end up in our overflowing landfills.  Roughly 1.5 million tons of plastic is used to make water bottles.  And this does not include the energy used to make the plastic and the oil used for transporting all the bottled water.  It takes about two liters of water used during the production process just to make one liter of bottled water.  So behind each 1-liter bottle of water is another two liters of water that was expended during its production.  Essentia states that their plastic bottles are \"safe and recyclable\", but we can all reduce our carbon footprint if we drink less bottled water.  In many developing countries, tap water is either unavailable or unsafe, making bottled water a better option if residents cannot boil their tap water before consumption.  But here in the U.S., some bottled water manufacturers, including this Essentia bottled water, use fear-based advertising claims that their water is healthier than tap water, which it really is not.  The concerns for the taste of tap water are valid, however, especially with tap water that has residual smell or taste of chlorination.  But residual smells and taste issues can be easily and economically remedied by using various activated charcoal/carbon filters at home to treat your tap water.  Anyway, the tap water that comes out of my faucet at home is also slightly alkaline like this Essentia water, and many municipal water supplies are also slightly alkaline, so there is no need to purchase this bottled water that has baking soda added to it.<br /><br />This is not a bad bottled water.  It is priced competitively with other bottled waters.  But it has an odd aftertaste that I do not like.  And the techno-jargon claims that revolve around this water's selling points - 9.5 pH, \"ionically separated water\", \"Infused With Electrolytes\", and even falsely stating that this water boosts your immune system - amount to nothing but purified snake oil hogwash.  To quote William Shakespeare, all this marketing hype about 9.5 pH and electrolytes is really \"much ado about nothing\"!\n"
     ]
    }
   ],
   "execution_count": 34
  },
  {
   "metadata": {},
   "cell_type": "code",
   "outputs": [],
   "execution_count": null,
   "source": "",
   "id": "7e5a23936e3c2a2b"
  },
  {
   "metadata": {
    "ExecuteTime": {
     "end_time": "2025-01-16T11:03:37.587980Z",
     "start_time": "2025-01-16T11:03:37.575281Z"
    }
   },
   "cell_type": "code",
   "source": [
    "\n",
    "def raw_mnist_features(x):\n",
    "    \"\"\"\n",
    "    @param x (n_samples,m,n) array with values in (0,1)\n",
    "    @return (m*n,n_samples) reshaped array where each entry is preserved\n",
    "    \"\"\"\n",
    "    raise Exception(\"implement me!\")\n",
    "\n",
    "def row_average_features(x):\n",
    "    \"\"\"\n",
    "    This should either use or modify your code from the tutor questions.\n",
    "\n",
    "    @param x (n_samples,m,n) array with values in (0,1)\n",
    "    @return (m,n_samples) array where each entry is the average of a row\n",
    "    \"\"\"\n",
    "    return np.mean(x, axis=2).T\n",
    "\n",
    "\n",
    "def col_average_features(x):\n",
    "    \"\"\"\n",
    "    This should either use or modify your code from the tutor questions.\n",
    "\n",
    "    @param x (n_samples,m,n) array with values in (0,1)\n",
    "    @return (n,n_samples) array where each entry is the average of a column\n",
    "    \"\"\"\n",
    "    return np.mean(x, axis=1).T\n",
    "\n",
    "\n",
    "def top_bottom_features(x):\n",
    "    \"\"\"\n",
    "    This should either use or modify your code from the tutor questions.\n",
    "\n",
    "    @param x (n_samples,m,n) array with values in (0,1)\n",
    "    @return (2,n_samples) array where the first entry of each column is the average of the\n",
    "    top half of the image = rows 0 to floor(m/2) [exclusive]\n",
    "    and the second entry is the average of the bottom half of the image\n",
    "    = rows floor(m/2) [inclusive] to m\n",
    "    \"\"\"\n",
    "    mid = x.shape[0] //2\n",
    "    top_means = np.mean(x[:, :mid, :], axis=(1, 2))\n",
    "    bottom_means = np.mean(x[:, mid:, :], axis=(1, 2))\n",
    "    return np.vstack(([top_means], [bottom_means]))\n",
    "\n",
    "a = np.random.randint(low=0, high=10, size=(3, 2, 4), )\n",
    "print(a)\n",
    "print(np.array([np.hstack(m) for m in a]).T)\n",
    "n_samples, m, n = a.shape\n",
    "print(np.reshape(a, (n_samples, m*n)).T)\n",
    "a_row_mean = np.mean(a, axis=2).T\n",
    "a_col_mean = np.mean(a, axis=1).T\n",
    "print(a_row_mean)\n",
    "print(row_average_features(a))\n",
    "print(a_col_mean)\n",
    "print(col_average_features(a))\n",
    "print(np.vstack([[np.mean(a[:,:1,:], axis=(1,2))], [np.mean(a[:,1:,:], axis=(1,2))]]))\n",
    "print(top_bottom_features(a))\n"
   ],
   "id": "d362a720e389ddc2",
   "outputs": [
    {
     "name": "stdout",
     "output_type": "stream",
     "text": [
      "[[[8 1 9 3]\n",
      "  [2 5 7 5]]\n",
      "\n",
      " [[2 6 1 4]\n",
      "  [9 7 9 8]]\n",
      "\n",
      " [[7 3 7 7]\n",
      "  [4 8 8 1]]]\n",
      "[[8 2 7]\n",
      " [1 6 3]\n",
      " [9 1 7]\n",
      " [3 4 7]\n",
      " [2 9 4]\n",
      " [5 7 8]\n",
      " [7 9 8]\n",
      " [5 8 1]]\n",
      "[[8 2 7]\n",
      " [1 6 3]\n",
      " [9 1 7]\n",
      " [3 4 7]\n",
      " [2 9 4]\n",
      " [5 7 8]\n",
      " [7 9 8]\n",
      " [5 8 1]]\n",
      "[[5.25 3.25 6.  ]\n",
      " [4.75 8.25 5.25]]\n",
      "[[5.25 3.25 6.  ]\n",
      " [4.75 8.25 5.25]]\n",
      "[[5.  5.5 5.5]\n",
      " [3.  6.5 5.5]\n",
      " [8.  5.  7.5]\n",
      " [4.  6.  4. ]]\n",
      "[[5.  5.5 5.5]\n",
      " [3.  6.5 5.5]\n",
      " [8.  5.  7.5]\n",
      " [4.  6.  4. ]]\n",
      "[[5.25 3.25 6.  ]\n",
      " [4.75 8.25 5.25]]\n",
      "[[5.25 3.25 6.  ]\n",
      " [4.75 8.25 5.25]]\n"
     ]
    }
   ],
   "execution_count": 55
  }
 ],
 "metadata": {
  "kernelspec": {
   "display_name": "Python 3",
   "language": "python",
   "name": "python3"
  },
  "language_info": {
   "codemirror_mode": {
    "name": "ipython",
    "version": 2
   },
   "file_extension": ".py",
   "mimetype": "text/x-python",
   "name": "python",
   "nbconvert_exporter": "python",
   "pygments_lexer": "ipython2",
   "version": "2.7.6"
  }
 },
 "nbformat": 4,
 "nbformat_minor": 5
}

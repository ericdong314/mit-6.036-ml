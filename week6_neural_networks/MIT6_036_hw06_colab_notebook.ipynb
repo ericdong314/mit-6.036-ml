{
 "nbformat": 4,
 "nbformat_minor": 0,
 "metadata": {
  "colab": {
   "provenance": []
  },
  "kernelspec": {
   "name": "python3",
   "display_name": "Python 3 (ipykernel)",
   "language": "python"
  }
 },
 "cells": [
  {
   "metadata": {
    "id": "1vjtYChCxpJo"
   },
   "cell_type": "markdown",
   "source": [
    "# MIT 6.036 Spring 2019: Homework 6\n",
    "\n",
    "This homework does not include provided Python code. Instead, we encourage you to write your own code to help you answer some of these problems, and/or test and debug the code components we do ask for. All of the problems should be simple enough that hand calculation should be possible, but it may be convenient to write some short programs to explore the neural networks, particularly for problem 2.\n"
   ]
  },
  {
   "metadata": {
    "id": "Q0278eUVx91Z",
    "ExecuteTime": {
     "end_time": "2025-02-04T14:16:28.746554Z",
     "start_time": "2025-02-04T14:16:28.742794Z"
    }
   },
   "cell_type": "code",
   "source": [
    "import numpy as np\n",
    "\n",
    "def SM(z):\n",
    "  # implement softmax\n",
    "  return np.exp(z)/sum(np.exp(z))"
   ],
   "outputs": [],
   "execution_count": 3
  },
  {
   "metadata": {
    "id": "nhKmop0MBh9R"
   },
   "cell_type": "markdown",
   "source": [
    " **Problem 2A**"
   ]
  },
  {
   "metadata": {
    "id": "g0093Y5sBitt",
    "ExecuteTime": {
     "end_time": "2025-02-04T14:16:30.954491Z",
     "start_time": "2025-02-04T14:16:30.943887Z"
    }
   },
   "cell_type": "code",
   "source": [
    "z = np.array([[-1, 0, 1]]).T\n",
    "# your code here\n",
    "SM(z)"
   ],
   "outputs": [
    {
     "data": {
      "text/plain": [
       "array([[0.09003057],\n",
       "       [0.24472847],\n",
       "       [0.66524096]])"
      ]
     },
     "execution_count": 4,
     "metadata": {},
     "output_type": "execute_result"
    }
   ],
   "execution_count": 4
  },
  {
   "metadata": {
    "id": "4ZigPSFHBOWy"
   },
   "cell_type": "markdown",
   "source": [
    "**Problem 2.C-F**"
   ]
  },
  {
   "metadata": {
    "id": "McPjfdEPBSNs",
    "ExecuteTime": {
     "end_time": "2025-02-04T15:05:32.870944Z",
     "start_time": "2025-02-04T15:05:32.863054Z"
    }
   },
   "cell_type": "code",
   "source": [
    "w = np.array([[1, -1, -2], [-1, 2, 1]])\n",
    "x = np.array([[1], [1]])\n",
    "y = np.array([[0, 1, 0]]).T\n",
    "# your code here\n",
    "z = w.T@x\n",
    "a = SM(z)\n",
    "d_loss_w = x @ (a - y).T\n",
    "print(a)\n",
    "print(d_loss_w)\n",
    "\n",
    "# E\n",
    "w_new = w - 0.5 * d_loss_w\n",
    "print(np.round(w_new, 3))\n",
    "\n",
    "# F\n",
    "z_new = w_new.T@x\n",
    "a_new = SM(z_new)\n",
    "print(np.round(a_new[1], 3))"
   ],
   "outputs": [
    {
     "name": "stdout",
     "output_type": "stream",
     "text": [
      "[[0.24472847]\n",
      " [0.66524096]\n",
      " [0.09003057]]\n",
      "[[ 0.24472847 -0.33475904  0.09003057]\n",
      " [ 0.24472847 -0.33475904  0.09003057]]\n",
      "[[ 0.878 -0.833 -2.045]\n",
      " [-1.122  2.167  0.955]]\n",
      "[0.772]\n"
     ]
    }
   ],
   "execution_count": 16
  },
  {
   "metadata": {
    "id": "6nefgHcxHgLe"
   },
   "cell_type": "markdown",
   "source": "**Problem 3**"
  },
  {
   "metadata": {
    "id": "hFMHmf8NHgY5",
    "ExecuteTime": {
     "end_time": "2025-02-04T17:23:44.141663Z",
     "start_time": "2025-02-04T17:23:44.132548Z"
    }
   },
   "cell_type": "code",
   "source": [
    "# layer 1 weights\n",
    "w_1 = np.array([[1, 0, -1, 0], [0, 1, 0, -1]])\n",
    "w_1_bias = np.array([[-1, -1, -1, -1]]).T\n",
    "# layer 2 weights\n",
    "w_2 = np.array([[1, -1], [1, -1], [1, -1], [1, -1]])\n",
    "w_2_bias = np.array([[0, 2]]).T\n",
    "\n",
    "# your code here\n",
    "def ReLU(z):\n",
    "    return np.where(z > 0, z, 0)\n",
    "x = np.array([[3,14]]).T\n",
    "z1 = w_1.T @ x +w_1_bias\n",
    "a1 = ReLU(z1)\n",
    "print(a1)\n",
    "\n",
    "z2 = w_2.T @ a1 + w_2_bias\n",
    "a2 = SM(z2)\n",
    "print(a2)"
   ],
   "outputs": [
    {
     "name": "stdout",
     "output_type": "stream",
     "text": [
      "[[ 2]\n",
      " [13]\n",
      " [ 0]\n",
      " [ 0]]\n",
      "[[1.00000000e+00]\n",
      " [6.91440011e-13]]\n"
     ]
    }
   ],
   "execution_count": 18
  },
  {
   "metadata": {
    "id": "5Qtv3VR2AA_m",
    "colab": {
     "base_uri": "https://localhost:8080/",
     "height": 84
    },
    "outputId": "798b1f01-fbe2-4fc4-9482-f979de216f98"
   },
   "cell_type": "code",
   "source": [
    "import numpy as np\n",
    "\n",
    "T  = np.matrix([[0.0 , 0.1 , 0.9 , 0.0],\n",
    "[0.9 , 0.1 , 0.0 , 0.0],\n",
    "[0.0 , 0.0 , 0.1 , 0.9],\n",
    "[0.9 , 0.0 , 0.0 , 0.1]])\n",
    "g = 0.9\n",
    "r = np.matrix([0, 1., 0., 2.]).reshape(4, 1)\n",
    "\n",
    "print(np.linalg.solve(np.eye(4) - g * T, r))"
   ],
   "execution_count": null,
   "outputs": [
    {
     "output_type": "stream",
     "text": [
      "[[6.05288295]\n",
      " [6.48663207]\n",
      " [6.7519581 ]\n",
      " [7.58553317]]\n"
     ],
     "name": "stdout"
    }
   ]
  }
 ]
}

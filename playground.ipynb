{
 "cells": [
  {
   "cell_type": "code",
   "id": "initial_id",
   "metadata": {
    "collapsed": true,
    "ExecuteTime": {
     "end_time": "2025-02-14T18:12:18.673939Z",
     "start_time": "2025-02-14T18:12:18.664772Z"
    }
   },
   "source": [
    "a = [1,2,3]\n",
    "a[:-1]"
   ],
   "outputs": [
    {
     "data": {
      "text/plain": [
       "[1, 2]"
      ]
     },
     "execution_count": 2,
     "metadata": {},
     "output_type": "execute_result"
    }
   ],
   "execution_count": 2
  },
  {
   "metadata": {
    "ExecuteTime": {
     "end_time": "2025-02-14T18:12:18.736374Z",
     "start_time": "2025-02-14T18:12:18.730974Z"
    }
   },
   "cell_type": "code",
   "source": "a[-1:]",
   "id": "97ba641b81399c37",
   "outputs": [
    {
     "data": {
      "text/plain": [
       "[3]"
      ]
     },
     "execution_count": 3,
     "metadata": {},
     "output_type": "execute_result"
    }
   ],
   "execution_count": 3
  },
  {
   "metadata": {
    "ExecuteTime": {
     "end_time": "2025-02-14T18:12:19.804754Z",
     "start_time": "2025-02-14T18:12:19.104436Z"
    }
   },
   "cell_type": "code",
   "source": [
    "import numpy as np\n",
    "a = np.ones((3,1))\n",
    "print(a)\n",
    "print(a[:-1])\n",
    "\n",
    "b = a\n",
    "\n"
   ],
   "id": "7e30f912e65b3e2e",
   "outputs": [
    {
     "name": "stdout",
     "output_type": "stream",
     "text": [
      "[[1.]\n",
      " [1.]\n",
      " [1.]]\n",
      "[[1.]\n",
      " [1.]]\n"
     ]
    }
   ],
   "execution_count": 4
  },
  {
   "metadata": {
    "ExecuteTime": {
     "end_time": "2025-02-14T18:12:19.827209Z",
     "start_time": "2025-02-14T18:12:19.823061Z"
    }
   },
   "cell_type": "code",
   "source": "b[0,0] = 2",
   "id": "b41715a2db36bd45",
   "outputs": [],
   "execution_count": 5
  },
  {
   "metadata": {
    "ExecuteTime": {
     "end_time": "2025-02-14T18:12:19.864270Z",
     "start_time": "2025-02-14T18:12:19.858233Z"
    }
   },
   "cell_type": "code",
   "source": "a",
   "id": "9ed515ffba7805e4",
   "outputs": [
    {
     "data": {
      "text/plain": [
       "array([[2.],\n",
       "       [1.],\n",
       "       [1.]])"
      ]
     },
     "execution_count": 6,
     "metadata": {},
     "output_type": "execute_result"
    }
   ],
   "execution_count": 6
  },
  {
   "metadata": {
    "ExecuteTime": {
     "end_time": "2025-02-14T18:12:19.921398Z",
     "start_time": "2025-02-14T18:12:19.916836Z"
    }
   },
   "cell_type": "code",
   "source": "b = b - 1",
   "id": "aebf5579999dca3",
   "outputs": [],
   "execution_count": 7
  },
  {
   "metadata": {
    "ExecuteTime": {
     "end_time": "2025-02-14T18:12:19.954495Z",
     "start_time": "2025-02-14T18:12:19.949411Z"
    }
   },
   "cell_type": "code",
   "source": "c = a",
   "id": "66c231afe7ae8b2d",
   "outputs": [],
   "execution_count": 8
  },
  {
   "metadata": {
    "ExecuteTime": {
     "end_time": "2025-02-14T18:12:22.286509Z",
     "start_time": "2025-02-14T18:12:22.279522Z"
    }
   },
   "cell_type": "code",
   "source": "c -= 2",
   "id": "69c944af310b5b52",
   "outputs": [],
   "execution_count": 9
  },
  {
   "metadata": {
    "ExecuteTime": {
     "end_time": "2025-02-14T18:12:22.474150Z",
     "start_time": "2025-02-14T18:12:22.466627Z"
    }
   },
   "cell_type": "code",
   "source": "c",
   "id": "3e969365e82bbdef",
   "outputs": [
    {
     "data": {
      "text/plain": [
       "array([[ 0.],\n",
       "       [-1.],\n",
       "       [-1.]])"
      ]
     },
     "execution_count": 10,
     "metadata": {},
     "output_type": "execute_result"
    }
   ],
   "execution_count": 10
  },
  {
   "metadata": {
    "ExecuteTime": {
     "end_time": "2025-02-14T18:12:22.610926Z",
     "start_time": "2025-02-14T18:12:22.606156Z"
    }
   },
   "cell_type": "code",
   "source": "a",
   "id": "a7dfd666c3b73be1",
   "outputs": [
    {
     "data": {
      "text/plain": [
       "array([[ 0.],\n",
       "       [-1.],\n",
       "       [-1.]])"
      ]
     },
     "execution_count": 11,
     "metadata": {},
     "output_type": "execute_result"
    }
   ],
   "execution_count": 11
  },
  {
   "metadata": {
    "ExecuteTime": {
     "end_time": "2025-02-14T18:12:23.116505Z",
     "start_time": "2025-02-14T18:12:23.109973Z"
    }
   },
   "cell_type": "code",
   "source": [
    "u = np.array([1,2,3])\n",
    "v = np.expand_dims(u, axis=1)\n",
    "w = np.expand_dims(u, axis=0)\n",
    "print(v)\n",
    "print(w)"
   ],
   "id": "cd24b6ac9270d45b",
   "outputs": [
    {
     "name": "stdout",
     "output_type": "stream",
     "text": [
      "[[1]\n",
      " [2]\n",
      " [3]]\n",
      "[[1 2 3]]\n"
     ]
    }
   ],
   "execution_count": 12
  },
  {
   "metadata": {
    "ExecuteTime": {
     "end_time": "2025-02-14T18:12:23.401800Z",
     "start_time": "2025-02-14T18:12:23.391771Z"
    }
   },
   "cell_type": "code",
   "source": [
    "x = np.array([1,0,2])\n",
    "y = -1\n",
    "a = 2\n",
    "np.where(y*a>1, 0, y * x)\n",
    "np.where(1*a>1, 0, y * x)\n",
    "\n",
    "np.where(x > 0, 1, x)"
   ],
   "id": "380b299509eef85f",
   "outputs": [
    {
     "data": {
      "text/plain": [
       "array([1, 0, 1])"
      ]
     },
     "execution_count": 13,
     "metadata": {},
     "output_type": "execute_result"
    }
   ],
   "execution_count": 13
  }
 ],
 "metadata": {
  "kernelspec": {
   "display_name": "Python 3",
   "language": "python",
   "name": "python3"
  },
  "language_info": {
   "codemirror_mode": {
    "name": "ipython",
    "version": 2
   },
   "file_extension": ".py",
   "mimetype": "text/x-python",
   "name": "python",
   "nbconvert_exporter": "python",
   "pygments_lexer": "ipython2",
   "version": "2.7.6"
  }
 },
 "nbformat": 4,
 "nbformat_minor": 5
}

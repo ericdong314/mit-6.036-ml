{
  "cells": [
    {
      "cell_type": "markdown",
      "metadata": {
        "id": "_xIaEwCD406A"
      },
      "source": [
        "#MIT 6.036 Spring 2019: Homework 8#\n",
        "\n",
        "This colab notebook provides code and a framework for [homework 8](https://openlearninglibrary.mit.edu/courses/course-v1:MITx+6.036+1T2019/courseware/Week8/week8_homework/).  You can work out your solutions here, then submit your results back on the homework page when ready.\n",
        "\n",
        "## <section>**Setup**</section>\n",
        "\n",
        "First, download the code distribution for this homework that contains test cases and helper functions.\n",
        "\n",
        "Run the next code block to download and import the code for this lab.\n"
      ]
    },
    {
      "cell_type": "markdown",
      "metadata": {
        "id": "v-sSs7N4mMiX"
      },
      "source": [
        "# 2) Implementing Mini-batch Gradient Descent and Batch Normalization (OPTIONAL)\n",
        "\n",
        "** Note: You can click the arrow on the left of this text block to collapse/expand this optional section and all its code blocks **\n",
        "\n",
        "Last week we implemented a framework for building neural networks from scratch. We trained our models using *stochastic* gradient descent. In this problem, we explore how we can implement batch normalization as a module `BatchNorm` in our framework. It is the same module which you analyzed in problem 1."
      ]
    },
    {
      "cell_type": "markdown",
      "metadata": {
        "id": "HgxmIfXVmVwd"
      },
      "source": [
        "Key to the concept of batch normalization is the doing gradient descent on batches of data. So we instead of using last week's stochastic gradient descent, we will first implement the *mini-batch* gradient descent method `mini_gd`, which is a hybrid between *stochastic* gradient descent and *batch* gradient descent. The lecture notes on <a href=\"https://openlearninglibrary.mit.edu/courses/course-v1:MITx+6.036+1T2019/courseware/Week7/neural_networks_2/1?activate_block_id=block-v1%3AMITx%2B6.036%2B2019_Spring%2Btype%40vertical%2Bblock%40neural_networks_2_optimizing_neural_network_parameters_vert\"> optimizing neural network parameters</a> are helpful for this part.\n",
        "\n",
        "In *mini-batch* gradient descent, for a mini-batch of size $K$, we select $K$ distinct data points uniformly at random from the data set and update the network weights based only on their contributions to the gradient:\n",
        "$$W := W - \\eta\\sum_{i=1}^K \\nabla_W \\mathcal{L}(h(x^{(i)}; W), y^{(i)})\\;\\;.$$\n",
        "\n",
        "Our *mini-batch* method `mini_gd` will be implemented within the `Sequential` python class (see homework 7 problem 2) and will take the following as inputs:\n",
        "\n",
        "* `X`: a standard data array (d by n)\n",
        "* `y`: a standard labels row vector (1 by n)\n",
        "* `iters`: the number of updates to perform on weights $W$\n",
        "* `lrate`: the learning rate used\n",
        "* `K`: the mini-batch size to be used\n",
        "\n",
        "One call of `mini_gd` should call `Sequential.backward` for back-propagation and `Sequential.step` for updating the weights, for a total of `iters` times, using `lrate` as the learning rate. As in our implementation of `sgd` from homework 7, we compute the predicted output for a mini-batch of data with the `Sequential.forward` method. We compute the loss between our predictions and the true labels using the assigned `Sequential.loss` method. (Note that in homework 7, `Sequential.step` was called `Sequential.sgd_step`. While the functionality of the step function is the same, it has been renamed for convenience. The same is true for the `module.step` function of each module we implemented, where applicable.)\n",
        "\n",
        "For picking $K$ unique data points at random from our large data-set for each mini-batch, we will implement the following strategy: we will first shuffle our data points `X` (and associated labels `y`). Then, we get <math>\\frac{n}{k}</math> (rounded down to the nearest integer) different mini-batches by grouping each $K$ consecutive points from this shuffled array. If we end up iterating over all the points but need more mini-batches, we will repeat the shuffling and the batching process."
      ]
    },
    {
      "cell_type": "markdown",
      "metadata": {
        "id": "Dr1kWI08mdo4"
      },
      "source": [
        "<b>2A)</b>You need to fill in the missing code below. We have implemented the shuffling of indices and have provided you with the outer and inner loops."
      ]
    },
    {
      "cell_type": "markdown",
      "metadata": {
        "id": "h_lvmO9Z22bH"
      },
      "source": [
        "** This OPTIONAL problem has you extend your homework 7 implementation for building neural networks. **\n",
        "### PLEASE COPY IN YOUR CODE FROM HOMEWORK 7 TO COMPLEMENT THE CLASSES GIVEN HERE\n",
        "\n",
        "Recall that your implementation from homework 7 included the following classes:\n",
        "    \n",
        "  * Module\n",
        "  * Linear\n",
        "  * Tanh\n",
        "  * ReLU\n",
        "  * SoftMax\n",
        "  * NLL\n",
        "  * Sequential"
      ]
    },
    {
      "cell_type": "code",
      "execution_count": 1,
      "metadata": {
        "id": "y-Tigvq4gOEs"
      },
      "outputs": [],
      "source": [
        "import math as m\n",
        "\n",
        "class Sequential:\n",
        "    def __init__(self, modules, loss):\n",
        "        self.modules = modules\n",
        "        self.loss = loss\n",
        "\n",
        "    def mini_gd(self, X, Y, iters, lrate, notif_each=None, K=10):\n",
        "        D, N = X.shape\n",
        "\n",
        "        np.random.seed(0)\n",
        "        num_updates = 0\n",
        "        indices = np.arange(N)\n",
        "        while num_updates < iters:\n",
        "\n",
        "            np.random.shuffle(indices)\n",
        "            X = None  # Your code\n",
        "            Y = None  # Your code\n",
        "\n",
        "            for j in range(m.floor(N/K)):\n",
        "                if num_updates >= iters: break\n",
        "\n",
        "                # Implement the main part of mini_gd here\n",
        "                # Your code\n",
        "\n",
        "                num_updates += 1\n",
        "\n",
        "    def forward(self, Xt):\n",
        "        for m in self.modules: Xt = m.forward(Xt)\n",
        "        return Xt\n",
        "\n",
        "    def backward(self, delta):\n",
        "        for m in self.modules[::-1]: delta = m.backward(delta)\n",
        "\n",
        "    def step(self, lrate):\n",
        "        for m in self.modules: m.step(lrate)"
      ]
    },
    {
      "cell_type": "markdown",
      "metadata": {
        "id": "1JZeeKXkm6YI"
      },
      "source": [
        "<b>2B)</b> We are now ready to implement batch normalization into our neural network framework! Our module `BatchNorm` will sit between consecutive layers of neurons, such as the $l^{th}$ and $(l+1)^{th}$ layers, acting as a \"corrector\" which allows $W^l$ to change freely, producing outputs $z^l$, but then the module corrects the covariate shift induced in the signals before they reach the $(l+1)^{th}$ layer, converting $z^l$ to $\\widehat{Z}^l$.\n",
        "\n",
        "The following is a summmary what is described in the <a href=\"https://openlearninglibrary.mit.edu/courses/course-v1:MITx+6.036+1T2019/courseware/Week7/neural_networks_2/2\">lecture notes</a>, and it should guide your implementation of the module.\n",
        "\n",
        "Any normalization between the $l^{th}$ and $(l+1)^{th}$ layers is done *separately* for each of the $n^l$ input connections leading to the $(l+1)^{th}$ layer. We handle a mini-batch of data of size $K$, and $Z^l$ is $n^l \\times K$, and the output $\\widehat{Z}^l$is of the same shape.\n",
        "\n",
        "We first compute $n^l$ *batchwise* means and\n",
        "standard deviations.  Let $\\mu^l$ be the $n^l \\times 1$ vector (`self.mus`) where\n",
        "$$\\mu^l_i = \\frac{1}{K} \\sum_{j = 1}^K Z^l_{ij}\\;\\;,$$\n",
        "and let $\\sigma^l$ be the $n^l \\times 1$ vector (`self.vars`) where\n",
        "$$\\sigma^l_i = \\sqrt{\\frac{1}{K} \\sum_{j = 1}^K (Z^l_{ij} - \\mu_i)^2}\\;\\;.$$\n",
        "\n",
        "The normalized data `self.norm` is the matrix $\\overline{Z}$, where\n",
        "$$\\overline{Z}^l_{ij} = \\frac{Z^l_{ij} - \\mu^l_i}{\\sigma^l_i + \\epsilon}\\;\\;,$$\n",
        "and where $\\epsilon$ is a very small constant to guard against division by\n",
        "zero.\n",
        "\n",
        "We define weights $G^l$ (`self.G`) and $B^l$ (`self.B`), each being an $n^l \\times 1$ vector, which we use to to shift and scale the outputs:\n",
        "$$\\widehat{Z}^l_{ij} = G^l_i \\overline{Z}^l_{ij} + B^l_i\\;\\;.$$\n",
        "\n",
        "The outputs are finally ready to be passed to the $(l+1)^{th}$ layer.\n",
        "\n",
        "A slight warning (that we will not worry about here) about `BatchNorm` is that during the *test* phase, if the test mini-batch size is too small (imagine we are deploying a neural network that deals with live video frames), then the lack of samples would cause the freshly-calculated $\\mu^l$ and $\\sigma^l$ to be far off from their true values that the module's parameters $G^l$ and $B^l$ were trained to be compatible with. To fix that, people usually compute a running average of $\\mu^l$ and $\\sigma^l$ during training, to be used at test time. We will assume our test mini-batches are large enough.\n",
        "\n",
        "In this problem we only implement the `BatchNorm.forward` and `BatchNorm.step` methods. We provide you with the implementation for `BatchNorm.backward` and the lecture notes contain the details of the derivations. You will need to fill in the missing code below."
      ]
    },
    {
      "cell_type": "code",
      "execution_count": 2,
      "metadata": {
        "id": "UlXP26plm8R7"
      },
      "outputs": [
        {
          "ename": "NameError",
          "evalue": "name 'Module' is not defined",
          "output_type": "error",
          "traceback": [
            "\u001b[1;31m---------------------------------------------------------------------------\u001b[0m",
            "\u001b[1;31mNameError\u001b[0m                                 Traceback (most recent call last)",
            "Cell \u001b[1;32mIn[2], line 1\u001b[0m\n\u001b[1;32m----> 1\u001b[0m \u001b[38;5;28;01mclass\u001b[39;00m \u001b[38;5;21;01mBatchNorm\u001b[39;00m(\u001b[43mModule\u001b[49m):\n\u001b[0;32m      2\u001b[0m     \u001b[38;5;28;01mdef\u001b[39;00m \u001b[38;5;21m__init__\u001b[39m(\u001b[38;5;28mself\u001b[39m, m):\n\u001b[0;32m      3\u001b[0m         np\u001b[38;5;241m.\u001b[39mrandom\u001b[38;5;241m.\u001b[39mseed(\u001b[38;5;241m0\u001b[39m)\n",
            "\u001b[1;31mNameError\u001b[0m: name 'Module' is not defined"
          ]
        }
      ],
      "source": [
        "class BatchNorm(Module):\n",
        "    def __init__(self, m):\n",
        "        np.random.seed(0)\n",
        "        self.eps = 1e-20\n",
        "        self.m = m  # number of input channels\n",
        "\n",
        "        # Init learned shifts and scaling factors\n",
        "        self.B = np.zeros([self.m, 1])\n",
        "        self.G = np.random.normal(0, 1.0 * self.m ** (-.5), [self.m, 1])\n",
        "\n",
        "    # Works on m x b matrices of m input channels and b different inputs\n",
        "    def forward(self, A):# A is m x K: m input channels and mini-batch size K\n",
        "        # Store last inputs and K for next backward() call\n",
        "        self.A = A\n",
        "        self.K = A.shape[1]\n",
        "\n",
        "        self.mus = None  # Your Code\n",
        "        self.vars = None  # Your Code\n",
        "\n",
        "        # Normalize inputs using their mean and standard deviation\n",
        "        self.norm = None  # Your Code\n",
        "\n",
        "        # Return scaled and shifted versions of self.norm\n",
        "        return None  # Your Code\n",
        "\n",
        "    def backward(self, dLdZ):\n",
        "        # Re-usable constants\n",
        "        std_inv = 1/np.sqrt(self.vars+self.eps)\n",
        "        A_min_mu = self.A-self.mus\n",
        "\n",
        "        dLdnorm = dLdZ * self.G\n",
        "        dLdVar = np.sum(dLdnorm * A_min_mu * -0.5 * std_inv**3, axis=1, keepdims=True)\n",
        "        dLdMu = np.sum(dLdnorm*(-std_inv), axis=1, keepdims=True) + dLdVar * (-2/self.K) * np.sum(A_min_mu, axis=1, keepdims=True)\n",
        "        dLdX = (dLdnorm * std_inv) + (dLdVar * (2/self.K) * A_min_mu) + (dLdMu/self.K)\n",
        "\n",
        "        self.dLdB = np.sum(dLdZ, axis=1, keepdims=True)\n",
        "        self.dLdG = np.sum(dLdZ * self.norm, axis=1, keepdims=True)\n",
        "        return dLdX\n",
        "\n",
        "    def step(self, lrate):\n",
        "        self.B = None  # Your Code\n",
        "        self.G = None  # Your Code\n",
        "        return"
      ]
    },
    {
      "cell_type": "markdown",
      "metadata": {
        "id": "65LKUAHD_77Y"
      },
      "source": [
        "# 3) 2D Datasets\n",
        "\n",
        "For the 2D datasets, we have provided the following function:\n",
        "\n",
        "\n",
        "```\n",
        "run_keras_2d(data_name, layers, epochs, split=0.25, display=True, trials=5)\n",
        "```\n",
        "\n",
        "\n",
        "where:\n",
        "\n",
        "data_name is a string, such as '1', '2', etc.\n",
        "layers is a list of Keras layer definitions for a Sequential model, e.g.\n",
        "```\n",
        "[Dense(input_dim=2, units=10, activation='relu'), Dense(units=2, activation='softmax')]\n",
        "```\n",
        "\n",
        "epochs is an integer indicating how many times to go through the data in training\n",
        "split is a fraction of the training data to use for validation if a validation set is not defined\n",
        "display whether to display result plots\n",
        "verbose whether to print loss and accuracy (percent correctly labeled) each epoch\n",
        "trials is an integer indicating how many times to perform the training and testing\n",
        "2D Data\n",
        "The two-class datasets have data_names: '1','2','3','4'. Target accuracies (percent correct) on the validation set are (99%, 90.5%, 96%, 94%).\n",
        "\n",
        "In this problem, try the following 5 architectures, specified by the number of units in the hidden layers:\n",
        "\n",
        "1: (0), 2: (10), 3: (100), 4: (10, 10), 5: (100, 100))\n",
        "You may find the archs function in the code file to be helpful here.\n",
        "Some of these questions ask for the \"simplest\" architecture; the list above is ordered starting with the simplest."
      ]
    },
    {
      "cell_type": "code",
      "execution_count": 1,
      "metadata": {
        "colab": {
          "base_uri": "https://localhost:8080/",
          "height": 34
        },
        "id": "Vp-RWPD7FUeo",
        "outputId": "b944266c-d0eb-4f17-9a63-71b26d3110d7"
      },
      "outputs": [],
      "source": [
        "from code_for_hw8_keras import *\n",
        "import keras\n",
        "from keras.models import Sequential\n",
        "from keras.optimizers import SGD, Adam\n",
        "from keras.layers import Conv1D, Conv2D, Dense, Dropout, Flatten, MaxPooling2D\n",
        "import keras.utils as np_utils\n",
        "from keras.callbacks import Callback\n",
        "from keras.datasets import mnist\n",
        "from keras import backend as K\n",
        "from keras.initializers import VarianceScaling\n",
        "from matplotlib import pyplot as plt"
      ]
    },
    {
      "cell_type": "code",
      "execution_count": 2,
      "metadata": {},
      "outputs": [
        {
          "name": "stderr",
          "output_type": "stream",
          "text": [
            "c:\\Users\\Eric2\\AppData\\Local\\Programs\\Python\\Python312\\Lib\\site-packages\\keras\\src\\layers\\core\\dense.py:87: UserWarning: Do not pass an `input_shape`/`input_dim` argument to a layer. When using Sequential models, prefer using an `Input(shape)` object as the first layer in the model instead.\n",
            "  super().__init__(activity_regularizer=activity_regularizer, **kwargs)\n"
          ]
        },
        {
          "name": "stdout",
          "output_type": "stream",
          "text": [
            "Keras FC: dataset= 2\n",
            "Convert from -1,1 to 0,1\n",
            "Loading X (400, 2) y (400,) classes {0.0, 1.0}\n",
            "Convert from -1,1 to 0,1\n",
            "Loading X (200, 2) y (200,) classes {0.0, 1.0}\n",
            "\n",
            "Loss on validation set:0.27525004744529724 Accuracy on validation set: 0.8949999809265137\n",
            "\n",
            "Avg. validation accuracy:0.8949999809265137\n"
          ]
        },
        {
          "data": {
            "text/plain": [
              "(array([[-1.08028402e+00,  1.04648140e+00],\n",
              "        [ 6.38815181e-01, -1.07125863e+00],\n",
              "        [-1.46090561e+00, -1.18148301e+00],\n",
              "        [-1.45325783e+00, -1.97605623e+00],\n",
              "        [-1.91673335e-01,  1.95463268e+00],\n",
              "        [-8.78887779e-01,  2.32969272e-01],\n",
              "        [-5.72601871e-01,  2.11756498e+00],\n",
              "        [-1.11318095e+00,  1.27803332e-01],\n",
              "        [-1.35201342e+00,  5.86232664e-01],\n",
              "        [-1.00426430e+00, -8.12181745e-01],\n",
              "        [-1.95841437e-01, -2.67822051e-01],\n",
              "        [ 2.89856474e+00, -4.27914418e-01],\n",
              "        [-4.67095185e-01,  1.73027049e+00],\n",
              "        [-1.44334058e-01,  9.41108388e-01],\n",
              "        [ 3.21315400e-02, -6.04895313e-01],\n",
              "        [-1.24883647e-01, -1.41134448e-01],\n",
              "        [ 1.25838984e+00,  8.14428936e-01],\n",
              "        [ 1.05994811e+00,  1.03747218e+00],\n",
              "        [-7.95287193e-01, -9.36767686e-01],\n",
              "        [-2.36621573e+00,  1.11700610e-01],\n",
              "        [ 8.19290972e-01,  1.15573589e+00],\n",
              "        [-9.33115123e-01, -6.72105750e-01],\n",
              "        [ 1.06082281e+00, -1.11885549e+00],\n",
              "        [ 1.09082642e+00, -1.34696817e+00],\n",
              "        [ 1.03370608e+00, -1.17180061e+00],\n",
              "        [-6.16310244e-01,  2.61525230e+00],\n",
              "        [ 1.75026056e+00,  4.92125173e-01],\n",
              "        [-1.03428819e+00,  4.34307627e-01],\n",
              "        [-7.94594405e-01,  1.86386232e+00],\n",
              "        [-1.85258485e+00,  3.09931699e+00],\n",
              "        [-7.33049608e-01,  2.38239045e+00],\n",
              "        [ 1.04884381e+00,  8.74936808e-01],\n",
              "        [ 8.19718455e-01, -8.71823660e-01],\n",
              "        [ 1.98855244e+00,  5.71003530e-01],\n",
              "        [-1.46460089e+00, -1.50083364e+00],\n",
              "        [-1.46867783e+00,  2.11090221e-01],\n",
              "        [-1.81229220e+00, -4.08248228e-01],\n",
              "        [-1.08957216e-01,  2.42615396e-03],\n",
              "        [-2.52164834e+00, -2.47998040e+00],\n",
              "        [ 1.38143360e+00, -8.37434812e-01],\n",
              "        [-7.00003279e-01,  1.34423323e+00],\n",
              "        [-4.69034360e-01, -7.51710454e-01],\n",
              "        [ 5.81614904e-01,  1.41239638e+00],\n",
              "        [-9.47126381e-01,  1.85008281e+00],\n",
              "        [-1.24686631e+00, -8.37097756e-01],\n",
              "        [-9.53272242e-01,  1.86033080e+00],\n",
              "        [ 6.90088182e-01,  3.46665370e+00],\n",
              "        [-1.62337680e+00, -5.24442976e-01],\n",
              "        [ 2.68942514e+00, -7.18395270e-01],\n",
              "        [-9.82064734e-01, -2.67181538e-02],\n",
              "        [ 5.35555417e-01, -1.26659885e+00],\n",
              "        [-8.24096888e-02,  1.83851715e+00],\n",
              "        [ 3.76113477e+00, -1.10954126e+00],\n",
              "        [-4.25911024e-01, -5.83676425e-01],\n",
              "        [-2.60168743e+00, -2.56066661e+00],\n",
              "        [ 2.34431322e-01, -1.11400704e+00],\n",
              "        [-1.07468028e+00,  1.29721447e+00],\n",
              "        [-7.29678795e-01,  1.23888643e+00],\n",
              "        [ 1.59368307e-01, -7.22677608e-01],\n",
              "        [ 1.43858200e+00, -7.69812784e-01],\n",
              "        [-3.75347204e-01,  2.02717929e+00],\n",
              "        [-1.81904649e-01, -7.72614030e-01],\n",
              "        [ 2.36331478e-01,  1.69805471e+00],\n",
              "        [ 3.79872711e-01,  5.58439066e-01],\n",
              "        [-6.89366568e-01,  7.23940587e-01],\n",
              "        [ 1.18151883e+00, -1.10309630e+00],\n",
              "        [ 2.76443697e+00, -3.35805408e-01],\n",
              "        [-2.01380386e-01,  3.89440035e-02],\n",
              "        [ 3.27843287e+00, -1.17543098e+00],\n",
              "        [-1.34403040e+00,  8.18472503e-01],\n",
              "        [-1.20908788e+00,  7.53534829e-01],\n",
              "        [-2.35479504e-02,  1.69099223e+00],\n",
              "        [ 1.51241210e-01, -8.95427218e-01],\n",
              "        [ 4.19436090e-01,  2.73193792e-01],\n",
              "        [ 1.08681935e+00,  9.30857621e-01],\n",
              "        [ 2.23898560e-01, -4.00037449e-02],\n",
              "        [-2.57583372e+00, -7.90985772e-01],\n",
              "        [-5.49375511e-01,  2.17692846e+00],\n",
              "        [-1.39075533e+00, -3.64814143e-01],\n",
              "        [ 8.76541883e-01,  8.48365509e-01],\n",
              "        [ 1.28582961e+00, -1.09647456e+00],\n",
              "        [ 8.70850526e-01, -1.15025051e+00],\n",
              "        [ 2.59916910e+00,  2.33886611e+00],\n",
              "        [-1.42668198e+00,  5.16627514e-01],\n",
              "        [ 2.10673747e+00, -9.08443385e-01],\n",
              "        [-1.15121409e+00, -3.41179981e-02],\n",
              "        [ 1.17777437e+00,  1.01847217e+00],\n",
              "        [ 2.58207855e+00, -2.98252361e-01],\n",
              "        [ 2.39710997e+00,  8.71732474e-02],\n",
              "        [ 2.43020283e+00, -8.97288931e-01],\n",
              "        [ 3.08944716e-01,  2.71764082e-01],\n",
              "        [ 1.96807656e+00, -9.11262146e-01],\n",
              "        [ 1.00612700e+00, -9.40350985e-01],\n",
              "        [-1.36901720e+00, -1.46302366e+00],\n",
              "        [-7.07188277e-01,  1.90105335e+00],\n",
              "        [-9.18193374e-01,  4.93238213e-01],\n",
              "        [-2.46124762e-01,  4.70171079e-01],\n",
              "        [-5.88251855e-01,  2.39633329e+00],\n",
              "        [ 8.74059390e-01, -1.19176435e+00],\n",
              "        [ 2.22929994e+00,  6.92925451e-03],\n",
              "        [-3.05976739e+00, -2.77813530e+00],\n",
              "        [-9.00968364e-01,  9.42808569e-01],\n",
              "        [ 4.31793087e-01, -1.18985592e+00],\n",
              "        [ 3.18447848e+00, -1.37575144e+00],\n",
              "        [-8.86208956e-02, -1.11372460e+00],\n",
              "        [-5.92740329e-01, -6.62168505e-01],\n",
              "        [-1.71643943e+00,  5.75962337e-01],\n",
              "        [ 8.62984094e-01, -9.72644603e-01],\n",
              "        [ 9.49140752e-01,  1.13378684e+00],\n",
              "        [-6.29939337e-01, -6.97129224e-01],\n",
              "        [-3.38675241e-01,  2.18599111e+00],\n",
              "        [-2.26550369e+00, -1.41720255e+00],\n",
              "        [-9.41722312e-01, -6.40421937e-02],\n",
              "        [ 2.46117425e-01,  1.60895523e-01],\n",
              "        [-1.92869785e+00, -1.78083364e+00],\n",
              "        [-1.36750918e+00,  1.15409568e+00],\n",
              "        [-7.20624165e-01,  1.87336314e+00],\n",
              "        [-1.35954469e+00,  4.12253503e-01],\n",
              "        [ 6.42435955e-01,  5.52341175e-01],\n",
              "        [-2.75614208e-01,  2.57765334e+00],\n",
              "        [ 2.13283112e+00,  1.57732915e-01],\n",
              "        [ 3.73268868e-01, -9.99680103e-01],\n",
              "        [-1.00429615e+00,  9.53989013e-01],\n",
              "        [-4.31171924e-01,  2.14837671e+00],\n",
              "        [-4.82403452e-02, -1.36956309e+00],\n",
              "        [-6.46735016e-01,  6.06647047e-01],\n",
              "        [ 7.43743410e-01, -1.11485766e+00],\n",
              "        [-3.49426737e-01,  1.53661751e+00],\n",
              "        [ 2.93140733e-01,  2.09981566e-01],\n",
              "        [-1.28757729e+00, -2.48420959e-01],\n",
              "        [-1.60516718e+00, -1.30209115e-01],\n",
              "        [-3.03817807e-01,  2.06131963e+00],\n",
              "        [-7.93556771e-01, -7.88516236e-01],\n",
              "        [ 2.07866520e-01, -2.75360165e-01],\n",
              "        [ 1.07430328e+00, -1.10622246e+00],\n",
              "        [ 8.90807683e-01, -1.10688054e+00],\n",
              "        [-5.89423801e-01,  2.26165633e+00],\n",
              "        [-1.10729367e+00,  1.10084865e+00],\n",
              "        [ 3.39392196e+00, -6.68161919e-01],\n",
              "        [-1.46654240e+00, -9.51878526e-01],\n",
              "        [-1.31652535e+00,  1.13014664e+00],\n",
              "        [ 8.68697101e-01,  9.47653547e-01],\n",
              "        [-1.26191468e+00,  2.51863932e+00],\n",
              "        [-5.80205564e-01,  1.90971032e+00],\n",
              "        [ 3.08360544e-01, -1.16684146e+00],\n",
              "        [-1.74081340e+00,  1.60936263e-01],\n",
              "        [-7.39356638e-01,  1.44056221e+00],\n",
              "        [-6.36141556e-01,  1.78870373e-01],\n",
              "        [-1.12861044e+00,  7.56588440e-01],\n",
              "        [ 1.01633165e+00,  1.37710735e+00],\n",
              "        [-3.07858733e-01, -5.30408365e-02],\n",
              "        [-7.28370853e-01, -1.18234340e+00],\n",
              "        [ 2.10553251e+00,  2.04110566e-01],\n",
              "        [ 1.76262011e+00,  4.87321452e-01],\n",
              "        [ 1.57697244e+00,  5.74478871e-01],\n",
              "        [ 6.45990947e-01,  4.89172146e-01],\n",
              "        [-1.57972869e+00, -9.26244499e-02],\n",
              "        [ 1.18346748e+00,  8.40906891e-01],\n",
              "        [-1.14554246e-01,  1.70097336e+00],\n",
              "        [-3.45539171e-01,  2.83099351e-01],\n",
              "        [ 2.28863998e+00,  2.03108305e-01],\n",
              "        [ 6.26902264e-01,  5.37022914e-01],\n",
              "        [-3.88712941e-01,  1.77506085e+00],\n",
              "        [-2.50101622e+00, -2.37689187e+00],\n",
              "        [ 1.42643563e+00, -8.48521458e-01],\n",
              "        [ 3.50949222e-01,  1.49877022e+00],\n",
              "        [-2.24065463e-01,  2.17059256e+00],\n",
              "        [-1.17963559e+00, -1.15355099e+00],\n",
              "        [-2.22585412e+00, -4.07447840e-01],\n",
              "        [ 6.63736839e-01, -6.85814959e-01],\n",
              "        [ 2.53917995e+00, -1.23445992e-01],\n",
              "        [-1.21230484e+00, -1.00046553e+00],\n",
              "        [ 5.97812083e-01, -1.15361297e+00],\n",
              "        [-1.46853464e+00,  1.57104828e+00],\n",
              "        [ 4.03343512e-01, -1.18144701e+00],\n",
              "        [-1.14560378e+00, -1.12607280e-01],\n",
              "        [-5.97746959e-01, -7.40813089e-01],\n",
              "        [ 6.17684409e-01,  1.29507295e+00],\n",
              "        [-1.37537243e+00, -1.16004881e-01],\n",
              "        [ 5.18914019e-01,  1.24502639e+00],\n",
              "        [-1.30422514e+00, -1.73323671e-01],\n",
              "        [-1.31367184e+00,  1.87047926e+00],\n",
              "        [-1.28442381e+00,  4.07752035e-01],\n",
              "        [-4.81598319e-01, -2.64799686e-01],\n",
              "        [ 3.57445020e-01, -1.39391903e+00],\n",
              "        [-3.86104675e-01,  1.26658926e+00],\n",
              "        [ 5.26712401e-01, -1.23759149e+00],\n",
              "        [ 1.28383683e+00,  9.42786437e-01],\n",
              "        [-1.77585096e+00, -3.67076701e-01],\n",
              "        [-4.22934818e-01,  1.95592950e+00],\n",
              "        [ 1.29983966e+00,  6.79588882e-01],\n",
              "        [ 1.02025116e+00,  9.69768986e-01],\n",
              "        [ 1.85827112e+00,  3.82066484e-01],\n",
              "        [-1.65987525e+00, -1.73574922e+00],\n",
              "        [-1.52803357e+00,  1.06207542e-01],\n",
              "        [-1.87761734e+00, -4.85096491e-02],\n",
              "        [-1.69789718e+00,  6.41344934e-01],\n",
              "        [-1.18198912e+00, -1.20678058e+00],\n",
              "        [-1.87850595e+00,  5.31465958e-01],\n",
              "        [-1.89990186e+00, -1.99978217e+00],\n",
              "        [-2.33903406e-01, -9.22549325e-01],\n",
              "        [ 6.84756854e-01,  1.21344045e+00],\n",
              "        [ 2.97355021e+00, -5.76570301e-01],\n",
              "        [ 1.17890861e+00, -1.20233299e+00],\n",
              "        [ 1.02953465e+00,  9.19518371e-01],\n",
              "        [ 3.34484900e+00, -1.33652016e+00],\n",
              "        [-2.85826391e-01,  1.83816154e+00],\n",
              "        [-2.38213776e+00, -4.27446912e-01],\n",
              "        [-1.32852528e+00,  8.72765446e-01],\n",
              "        [-6.48179440e-01,  1.47403690e+00],\n",
              "        [ 9.11255946e-01, -9.59918736e-01],\n",
              "        [-6.65578011e-01, -1.03588191e+00],\n",
              "        [-1.19181144e+00,  2.59930958e+00],\n",
              "        [-1.36880785e+00, -1.49879685e+00],\n",
              "        [-6.03551194e-01,  1.82856381e+00],\n",
              "        [ 2.92020832e-01,  1.43316007e+00],\n",
              "        [ 1.60663203e+00, -1.13067848e+00],\n",
              "        [ 8.19755298e-01,  4.60879228e-01],\n",
              "        [-6.29472025e-01, -8.38701239e-01],\n",
              "        [ 1.27621763e+00, -1.04805327e+00],\n",
              "        [ 3.19120517e+00, -4.97730362e-01],\n",
              "        [ 2.68940073e-01,  2.54195359e+00],\n",
              "        [ 5.89576749e-01,  1.23463526e+00],\n",
              "        [ 1.55322202e+00, -1.15509002e+00],\n",
              "        [ 1.56463949e+00, -9.08035870e-01],\n",
              "        [ 2.27983193e-01, -7.77485339e-01],\n",
              "        [-4.93366855e-01,  1.34172764e+00],\n",
              "        [-1.08109509e+00, -9.55261491e-01],\n",
              "        [-2.19077898e-01,  2.00850459e+00],\n",
              "        [-4.15560379e-01, -6.37232073e-01],\n",
              "        [ 1.35476195e-01,  1.64980982e+00],\n",
              "        [-1.58699818e+00, -1.68500906e+00],\n",
              "        [-9.76365821e-02, -1.94969085e-01],\n",
              "        [ 2.30127946e+00, -1.10082751e+00],\n",
              "        [-1.18649873e+00, -1.18973055e+00],\n",
              "        [-1.90665505e+00, -1.15958454e+00],\n",
              "        [-2.76591496e+00, -2.90422443e+00],\n",
              "        [ 5.50561778e-01,  2.26509563e+00],\n",
              "        [-9.87987581e-01, -6.47696279e-01],\n",
              "        [-1.28607425e+00, -1.35485789e+00],\n",
              "        [-1.10703946e+00, -1.06669431e+00],\n",
              "        [ 1.94384782e-01, -9.86623532e-01],\n",
              "        [ 3.36116762e-01,  2.13401670e-01],\n",
              "        [-9.36416355e-02,  1.99327266e+00],\n",
              "        [ 8.73106827e-01,  1.04839513e+00],\n",
              "        [ 2.69344042e+00, -2.50460842e-01],\n",
              "        [-2.46493986e+00, -2.41956036e+00],\n",
              "        [-1.36693019e+00,  1.44362902e+00],\n",
              "        [ 1.71591188e+00,  2.98827140e-01],\n",
              "        [ 2.68221896e+00, -6.58780220e-01],\n",
              "        [ 9.24357799e-01,  8.82615400e-01],\n",
              "        [-3.22573916e-03, -1.20271331e+00],\n",
              "        [ 1.37457316e+00, -9.84687572e-01],\n",
              "        [ 2.19311623e+00,  1.04578246e-01],\n",
              "        [-1.56702723e+00, -2.57259783e-01],\n",
              "        [-1.02669141e-01, -2.45622654e-01],\n",
              "        [ 1.20175672e+00, -9.30735169e-01],\n",
              "        [-6.56994421e-01,  9.79162187e-01],\n",
              "        [-5.10640051e-01, -1.07910459e+00],\n",
              "        [-4.98829964e-01, -3.93809547e-01],\n",
              "        [-4.65271850e-01,  1.64842999e+00],\n",
              "        [-1.48968586e+00, -1.34403643e+00],\n",
              "        [-1.03110059e+00,  1.49793799e+00],\n",
              "        [ 2.65477985e-01, -8.30744385e-01],\n",
              "        [-9.95548619e-01, -8.46667114e-01],\n",
              "        [ 8.86340826e-01, -8.20409764e-01],\n",
              "        [-1.23137241e+00,  1.36368207e+00],\n",
              "        [ 5.23058521e-01,  2.14536426e+00],\n",
              "        [-1.13580376e+00, -1.20385579e+00],\n",
              "        [-7.63016366e-01, -7.47331914e-01],\n",
              "        [-5.03929692e-01,  2.19314649e+00],\n",
              "        [-9.21277900e-01,  2.30607084e+00],\n",
              "        [ 1.42432842e+00,  6.12940999e-01],\n",
              "        [-6.02091141e-01, -6.87159722e-01],\n",
              "        [ 2.53951333e+00, -7.29674348e-02],\n",
              "        [ 2.89792941e+00, -1.35873607e+00],\n",
              "        [ 2.93319964e-01,  1.62823666e+00],\n",
              "        [ 6.19896012e-01,  1.35393107e+00],\n",
              "        [-6.71602824e-01, -7.68705151e-01],\n",
              "        [-1.67749204e+00,  2.77485781e-02],\n",
              "        [-6.90958835e-01,  2.38342967e+00],\n",
              "        [-5.17793384e-01, -5.98408386e-01],\n",
              "        [-1.48103028e+00, -1.55116116e+00],\n",
              "        [-2.13973685e-01, -1.20527645e-01],\n",
              "        [ 2.79719766e-01,  1.34451459e+00],\n",
              "        [ 1.30703525e+00, -1.16731354e+00],\n",
              "        [ 2.98135036e-01,  4.43167581e-01],\n",
              "        [ 3.23567685e+00, -6.76676337e-01],\n",
              "        [-9.01038899e-01, -1.58127225e-01],\n",
              "        [ 3.02060944e+00, -1.20300597e+00],\n",
              "        [-6.51919047e-01, -7.54819636e-01],\n",
              "        [ 1.41173550e+00, -8.62062765e-01],\n",
              "        [ 2.60675347e+00, -1.07374689e-01],\n",
              "        [-2.43317123e+00, -2.51628576e+00],\n",
              "        [-2.88914171e+00, -2.85959001e+00],\n",
              "        [-1.37762951e-01,  2.09710759e+00],\n",
              "        [ 7.25919966e-01, -8.40558190e-01],\n",
              "        [ 1.07810322e+00, -7.35877513e-01],\n",
              "        [-1.26950299e+00, -8.17906295e-01],\n",
              "        [-2.60372971e+00, -1.33239916e+00],\n",
              "        [ 1.64799855e-01,  1.43407080e+00],\n",
              "        [-5.05427102e-01,  2.25922912e+00],\n",
              "        [ 1.27035750e+00, -7.89908472e-01],\n",
              "        [ 2.94528449e-01,  2.27694472e-01],\n",
              "        [ 2.32126285e-01,  3.42873063e+00],\n",
              "        [-1.59501645e+00,  2.87988451e-01],\n",
              "        [-3.76479700e-01,  1.45439639e+00],\n",
              "        [-1.16939583e-01, -1.00651720e+00],\n",
              "        [-3.07197403e+00, -3.09217414e+00],\n",
              "        [-5.05832862e-02,  1.57840839e+00],\n",
              "        [-8.61137678e-01,  7.81567059e-01],\n",
              "        [ 4.53498957e-01, -9.35699796e-01],\n",
              "        [ 4.68547777e-01,  3.25495022e-01],\n",
              "        [ 1.68331248e+00, -1.08368613e+00],\n",
              "        [-8.21742059e-01,  1.22294898e+00],\n",
              "        [-3.49421923e+00, -3.46012699e+00],\n",
              "        [-8.19505075e-01,  3.12796208e+00],\n",
              "        [-1.56802547e+00,  5.53409373e-01],\n",
              "        [ 1.45166294e+00, -9.35462323e-01],\n",
              "        [-1.66640200e+00,  9.67777299e-01],\n",
              "        [-7.04391246e-01, -6.03308713e-01],\n",
              "        [ 1.66147159e+00,  5.40435722e-01],\n",
              "        [ 1.18625907e+00, -9.52392458e-01],\n",
              "        [-7.50431493e-01, -7.21794955e-01],\n",
              "        [ 3.05865114e+00, -8.82678285e-01],\n",
              "        [-1.09381583e+00,  2.53389307e+00],\n",
              "        [ 1.13835016e+00, -1.15406322e+00],\n",
              "        [ 2.70059942e-01, -1.21916712e+00],\n",
              "        [-4.19772033e-01, -1.61455877e-01],\n",
              "        [-4.06029615e-01, -5.24708973e-01],\n",
              "        [-9.37735593e-01, -8.55627235e-01],\n",
              "        [-4.14619812e-01, -5.21097750e-01],\n",
              "        [-1.18512673e+00,  7.00500961e-01],\n",
              "        [-2.16376388e+00, -2.34818460e+00],\n",
              "        [ 2.13573174e+00, -1.17763617e+00],\n",
              "        [-1.73439407e+00,  5.68351852e-01],\n",
              "        [ 1.62640888e+00,  7.47502437e-01],\n",
              "        [-1.23195864e-01,  1.75266999e+00],\n",
              "        [-6.09349593e-01,  2.77101678e+00],\n",
              "        [ 2.19767513e+00,  1.17447527e-01],\n",
              "        [-1.08569185e+00,  8.57924729e-01],\n",
              "        [-1.41195475e+00,  1.28715574e+00],\n",
              "        [ 2.10579726e+00, -5.83057511e-01],\n",
              "        [ 8.23612562e-02,  2.41533234e-01],\n",
              "        [ 3.98998700e-01, -8.24673303e-01],\n",
              "        [-1.35537659e+00, -6.66133824e-02],\n",
              "        [-8.41387781e-01, -6.55598384e-01],\n",
              "        [-2.41708091e+00, -2.15882089e+00],\n",
              "        [-5.14962371e-01, -7.77415165e-01],\n",
              "        [-7.18229216e-01, -7.69472198e-01],\n",
              "        [-3.84516669e+00, -3.53189772e+00],\n",
              "        [ 1.02227645e+00, -9.88603122e-01],\n",
              "        [-3.15691448e-01,  1.90027984e+00],\n",
              "        [-6.49323337e-01, -9.85603310e-01],\n",
              "        [ 3.89868104e-02,  1.74244888e+00],\n",
              "        [-2.57254344e+00, -5.67245715e-01],\n",
              "        [ 8.47792201e-01,  9.77964687e-01],\n",
              "        [-2.35833682e+00, -3.01459268e-01],\n",
              "        [-7.51873287e-01, -9.06438672e-01],\n",
              "        [ 7.24359432e-01, -1.21214224e+00],\n",
              "        [-4.42767576e-01, -7.70831748e-01],\n",
              "        [-1.44029872e+00,  8.04109469e-01],\n",
              "        [ 1.57779603e+00,  5.93931515e-01],\n",
              "        [ 1.30086718e+00,  7.90331778e-01],\n",
              "        [-2.00387447e+00, -7.74858858e-01],\n",
              "        [-1.05326962e+00,  1.15185857e+00],\n",
              "        [-1.65677387e+00,  2.93458563e+00],\n",
              "        [ 1.66798937e+00, -9.63566174e-01],\n",
              "        [ 1.81755983e+00,  4.29775512e-01],\n",
              "        [ 8.47299632e-01,  1.05875704e+00],\n",
              "        [-1.90008080e+00, -1.80945582e+00],\n",
              "        [ 1.94482126e+00, -1.09518442e+00],\n",
              "        [ 3.10719492e-01,  1.30610237e+00],\n",
              "        [-1.10228747e+00, -1.09571841e+00],\n",
              "        [-2.06570460e+00, -1.44385339e+00],\n",
              "        [-2.09917294e+00,  1.84756054e-01],\n",
              "        [ 1.02735575e+00,  9.99444459e-01],\n",
              "        [ 1.29690447e+00,  6.12584986e-01],\n",
              "        [ 2.61965174e-01,  1.64526150e+00],\n",
              "        [-2.58470717e-01, -1.10330149e+00],\n",
              "        [ 1.55221528e+00, -1.01146236e+00],\n",
              "        [ 1.03561105e+00,  1.05972780e+00],\n",
              "        [ 1.98640750e+00, -1.01913834e+00],\n",
              "        [ 2.18903178e+00, -1.08510531e+00],\n",
              "        [-1.53493211e+00, -1.35908778e+00],\n",
              "        [-3.41488482e-01,  9.33536393e-01],\n",
              "        [-1.97942274e+00, -1.87038098e+00],\n",
              "        [-7.58281099e-01, -6.23951011e-01],\n",
              "        [ 1.78788530e+00, -8.24769511e-01],\n",
              "        [ 1.66867972e-01,  1.37301272e+00],\n",
              "        [-3.53837461e-01,  2.12256043e+00],\n",
              "        [-7.14648423e-01, -7.21520901e-01],\n",
              "        [ 2.69131210e+00, -2.53916318e-01],\n",
              "        [-8.37372488e-01,  2.43210108e+00],\n",
              "        [ 1.66486416e+00, -1.14545031e+00],\n",
              "        [-1.93709034e-01,  1.85199160e+00],\n",
              "        [ 2.43823001e-02, -1.74471417e-01],\n",
              "        [ 2.61954387e+00, -1.05985923e+00],\n",
              "        [-4.10163532e-01,  6.46080198e-01],\n",
              "        [ 6.71250029e-01,  1.28652238e+00]]),\n",
              " array([0., 1., 0., 0., 1., 0., 1., 0., 0., 0., 0., 1., 0., 0., 1., 0., 1.,\n",
              "        1., 0., 0., 1., 1., 1., 1., 1., 0., 1., 0., 0., 1., 0., 1., 1., 1.,\n",
              "        0., 0., 0., 0., 0., 1., 0., 0., 1., 0., 0., 0., 0., 0., 1., 0., 1.,\n",
              "        1., 1., 0., 0., 1., 0., 0., 1., 1., 1., 1., 1., 0., 0., 1., 1., 0.,\n",
              "        1., 0., 0., 1., 1., 0., 1., 0., 0., 1., 0., 0., 1., 1., 0., 0., 1.,\n",
              "        0., 1., 1., 1., 1., 0., 1., 1., 0., 0., 0., 0., 0., 1., 1., 0., 0.,\n",
              "        1., 1., 1., 0., 0., 1., 1., 0., 1., 0., 0., 0., 0., 0., 0., 0., 0.,\n",
              "        0., 1., 1., 0., 0., 1., 0., 1., 0., 0., 0., 0., 1., 0., 0., 1., 1.,\n",
              "        1., 0., 1., 1., 0., 1., 1., 0., 1., 0., 0., 0., 0., 0., 0., 1., 1.,\n",
              "        1., 1., 0., 0., 1., 1., 0., 1., 0., 0., 0., 1., 1., 0., 1., 0., 1.,\n",
              "        1., 1., 1., 1., 1., 0., 1., 1., 0., 1., 0., 0., 0., 0., 1., 0., 1.,\n",
              "        1., 0., 1., 1., 1., 1., 0., 0., 0., 0., 0., 0., 0., 1., 1., 1., 1.,\n",
              "        1., 1., 1., 0., 0., 0., 1., 1., 1., 0., 0., 1., 1., 0., 0., 1., 1.,\n",
              "        0., 1., 1., 1., 1., 0., 0., 1., 0., 1., 0., 0., 1., 0., 1., 0., 0.,\n",
              "        0., 0., 0., 1., 0., 0., 1., 1., 0., 0., 1., 1., 1., 1., 1., 1., 0.,\n",
              "        0., 1., 0., 1., 0., 0., 0., 0., 1., 0., 1., 0., 0., 0., 0., 1., 1.,\n",
              "        1., 0., 1., 1., 1., 1., 1., 0., 1., 0., 0., 0., 1., 1., 0., 1., 0.,\n",
              "        1., 0., 1., 1., 0., 0., 0., 1., 1., 0., 0., 1., 1., 1., 0., 0., 0.,\n",
              "        0., 1., 0., 1., 0., 1., 0., 1., 0., 0., 0., 0., 1., 0., 0., 1., 1.,\n",
              "        0., 1., 1., 1., 1., 0., 0., 0., 0., 0., 0., 1., 0., 1., 1., 0., 1.,\n",
              "        0., 0., 1., 0., 1., 0., 0., 0., 0., 1., 0., 1., 1., 0., 1., 0., 1.,\n",
              "        0., 0., 1., 0., 0., 1., 1., 0., 0., 1., 1., 1., 1., 0., 1., 1., 0.,\n",
              "        0., 0., 1., 1., 1., 1., 1., 1., 1., 1., 0., 0., 0., 0., 1., 1., 1.,\n",
              "        0., 1., 1., 1., 1., 0., 1., 0., 1.]),\n",
              " <Sequential name=sequential, built=True>)"
            ]
          },
          "execution_count": 2,
          "metadata": {},
          "output_type": "execute_result"
        }
      ],
      "source": [
        "layer1 = keras.layers.Dense(units=3, activation='relu', use_bias=False)\n",
        "run_keras_2d(\"2\", archs(2)[2], 10, split=0.25, display=False, verbose=False, trials=1)\n",
        "\n"
      ]
    },
    {
      "cell_type": "markdown",
      "metadata": {
        "id": "_YWbWX47_9Tr"
      },
      "source": [
        "\n"
      ]
    },
    {
      "cell_type": "markdown",
      "metadata": {
        "id": "Zh4u39OCjLza"
      },
      "source": [
        "# Weight sharing (OPTIONAL)\n",
        "\n",
        "** Note: You can click the arrow on the left of this text block to collapse/expand this optional section and all its code blocks **\n",
        "\n",
        "In the lab we designed a CNN that can count the number of objects in 1 dimensional images, where each black pixel is represented by a value of 0 and each white pixel is represented by a value of 1. Recall that an object is a consecutive sequence of black pixels ($0$'s). For example, the sequence $0100110$ contains three objects.\n",
        "\n",
        "Here we want to see how hard/easy it is to train such a network from data.  Our network architecture will be as follows:\n",
        "\n",
        "* The first layer is convolutional and you will implement it using the Keras `Conv1D` function, with a kernel of size 2 and stride of 1 with ReLu activation.\n",
        "\n",
        "* The second layer is a fully connected `Dense` layer which has a scalar output.\n",
        "\n",
        "Here is sample usage of the `Conv1D` and`Dense` layers.\n",
        "\n",
        "`layer1=keras.layers.Conv1D(filters=?, kernel_size=?, strides=?,use_bias=False, activation=?, batch_size=1, input_shape=?, padding='same')`\n",
        "\n",
        "`Dense(units=?, activation=?, use_bias=False)`\n",
        "\n",
        "You need to fill in the parameters marked with `?` based on the problem specifications. Note also that in Keras, depending on your implementation, you may be forced to use *three* layers to implement such a network, where one intermediary `Flatten` layer is used to flatten the output of the convolutional layer, before being passed to the dense layer.\n",
        "\n",
        "Refer to the <a href=\"https://keras.io/layers/convolutional/\">Conv 1D</a>, <a href=\"https://keras.io/layers/core/\">Dense</a> and <a href=\"https://keras.io/layers/core/#flatten\">Flatten</a> descriptions in the Keras documentation to see the available parameter options.\n",
        "\n",
        "In this exercise, we fix the structure and want to learn the best combination of weights from data. In the homework code, we have provided functions `train_neural_counter` and `get_image_data_1d`. You can use them to generate data and train the above neural network in Keras to answer the following questions. We assume that the images in our data set are randomly generated. The probability of a pixel being white is $0.1$. We work with mean squared error as the loss function for this problem. We have provided template code which you can fill in, to perform the training."
      ]
    },
    {
      "cell_type": "markdown",
      "metadata": {
        "id": "wKa8iMv_j3ek"
      },
      "source": [
        "<b>4B)</b> What is (approximately) the expected loss of the network on $1024\\times 1$ images if the convolutional layer is an averaging filter and second layer is the sum function (without a bias term)? (Note that you can answer the question theoretically or through coding, depending on your preference.)"
      ]
    },
    {
      "cell_type": "code",
      "execution_count": null,
      "metadata": {
        "id": "IKxedp-qFXJe"
      },
      "outputs": [],
      "source": [
        "from keras.models import Sequential"
      ]
    },
    {
      "cell_type": "code",
      "execution_count": null,
      "metadata": {
        "id": "oKPcB588ok8a"
      },
      "outputs": [],
      "source": [
        "# Code template if you would like to check 4B) through code\n",
        "\n",
        "imsize = 1024\n",
        "prob_white = 0.1\n",
        "\n",
        "num_filters = None  # Your code\n",
        "kernel_size = None  # Your code\n",
        "strides = None  # Your code\n",
        "activation_conv = None  # Your code\n",
        "\n",
        "(X_train,Y_train,X_val,Y_val,X_test,Y_test) = get_image_data_1d(1000,imsize,prob_white)\n",
        "\n",
        "layer1=keras.layers.Conv1D(filters=num_filters, kernel_size=kernel_size, \\\n",
        "       strides=strides, use_bias=False, activation=activation_conv, batch_size=1, input_shape=(imsize,1), padding='same')\n",
        "\n",
        "activation_dense = None  # Your code\n",
        "num_units = None  # Your code\n",
        "layer3=Dense(units=num_units, activation=activation_dense, use_bias=False)\n",
        "\n",
        "layers=[layer1,Flatten(),layer3]\n",
        "\n",
        "# This is how we create the model using our layers\n",
        "model=Sequential()\n",
        "for layer in layers:\n",
        "    model.add(layer)\n",
        "\n",
        "model.compile(loss='mse', optimizer=Adam())\n",
        "\n",
        "# Set the weights of the layers to desired values\n",
        "# We give you the lines to use for this part\n",
        "model.layers[0].set_weights([np.array([1/2,1/2]).reshape(2,1,1)])\n",
        "model.layers[-1].set_weights([np.ones(imsize).reshape(imsize,1)])\n",
        "\n",
        "model.evaluate(X_test,Y_test)"
      ]
    },
    {
      "cell_type": "markdown",
      "metadata": {
        "id": "js3OYsbwj7Ms"
      },
      "source": [
        "<b>4C)</b> Now suppose we add a bias term of $-10$ to the last layer. What is (approximately) the expected quadratic loss? (Note that you can answer the question theoretically or through coding, depending on your preference.)"
      ]
    },
    {
      "cell_type": "code",
      "execution_count": null,
      "metadata": {
        "id": "AKynxhF1klga"
      },
      "outputs": [],
      "source": [
        "# Edit code from 4B) with the bias"
      ]
    },
    {
      "cell_type": "markdown",
      "metadata": {
        "id": "3GCLr8qmj-Hk"
      },
      "source": [
        "<b>4D)</b> Averaging type filters are abundant and form a nearly flat valley of local minima for this problem. It is difficult for the network to find alternative solutions on its own. We need to force our way out of these bad minima and towards a better solution, i.e., an edge detector. To force the first layer to behave as an edge detector, we need to choose a proper **kernel regularizer**. Consider the following functions\n",
        "\n",
        "$f_1=\\sum_i |w_i|$, $f_2=\\sum_i |w_i^2|$, $f_3=|\\sum_{i} w_i|$. Which one of the choices is likely to guide the network to find an edge detector at the convolution layer?\n",
        "\n",
        "\n",
        "<a href=\"https://openlearninglibrary.mit.edu/courses/course-v1:MITx+6.036+1T2019/courseware/Week8/week8_homework/\">Refer to Catsoop.</a>"
      ]
    },
    {
      "cell_type": "markdown",
      "metadata": {
        "id": "5aubU6Q6kwOI"
      },
      "source": [
        "Implement your choice of regularizers from above in the code (complete the function `filter_reg`). Do not allow any bias in the layers for the rest of the problem. The code generates some random test and training data sets and trains the model on these data. Run a few learning trials (5 or more) for each data set and answer the following questions based on the performance of your model.\n",
        "\n",
        "**IMPORTANT**: When implementing `filter_reg`, you should use the keras backend operations, imported as \"K\" in the code. So for example, `K.sum` and `K.abs`, rather than `np.sum` and `np.abs`. This is because the `weights` argument is NOT a numpy object, but rather an internal Keras object!"
      ]
    },
    {
      "cell_type": "code",
      "execution_count": null,
      "metadata": {
        "id": "yOLZf_JsuTLn"
      },
      "outputs": [],
      "source": [
        "# Implement filter_reg\n",
        "\n",
        "def filter_reg(weights):\n",
        "    # We scale the output of the filter by lam\n",
        "    lam=1000\n",
        "    filter_result = None  # Your code\n",
        "    return lam * filter_result"
      ]
    },
    {
      "cell_type": "markdown",
      "metadata": {
        "id": "pYRwd0eJkAdh"
      },
      "source": [
        "<b>4E)</b> For $1024\\times 1$ images and training set of size $1000$, is the network **without any regularization** likely to find models that have a mean square error lower than 8 on the test data?"
      ]
    },
    {
      "cell_type": "code",
      "execution_count": null,
      "metadata": {
        "id": "1KiCbZmksXO6"
      },
      "outputs": [],
      "source": [
        "# Code template if you would like to check 4B) through code\n",
        "\n",
        "imsize = 1024\n",
        "prob_white = 0.1\n",
        "\n",
        "data=get_image_data_1d(1000, imsize, prob_white)\n",
        "trials=5\n",
        "for trial in range(trials):\n",
        "\n",
        "    num_filters = None  # Your code\n",
        "    kernel_size = None  # Your code\n",
        "    strides = None  # Your code\n",
        "    activation_conv = None  # Your code\n",
        "\n",
        "    layer1=keras.layers.Conv1D(filters=num_filters, kernel_size=kernel_size, \\\n",
        "    strides=strides, use_bias=False, activation=activation_conv, batch_size=1, \\\n",
        "    input_shape=(imsize,1),padding='same')\n",
        "\n",
        "    activation_dense = None  # Your code\n",
        "    num_units = None  # Your code\n",
        "\n",
        "    layer3=Dense(units=num_units, activation=activation_dense, use_bias=False)\n",
        "\n",
        "    layers=[layer1,Flatten(),layer3]\n",
        "    model,err = train_neural_counter(layers, data, 'mse')\n",
        "\n",
        "    model.layers[0].get_weights()[0]\n",
        "    np.mean(model.layers[-1].get_weights()[0])\n",
        "    print(err)"
      ]
    },
    {
      "cell_type": "markdown",
      "metadata": {
        "id": "g1vcUEL-vW9D"
      },
      "source": [
        "#### For parts F) to J), simply edit your code from E) with the necessary changes."
      ]
    },
    {
      "cell_type": "markdown",
      "metadata": {
        "id": "w_25ygQJkD5F"
      },
      "source": [
        "<b>4F)</b> Repeat the same experiment, but now with the regularizer you implemented. Try different regularization parameters. Which choice of regularization parameter gives the best prediction results?"
      ]
    },
    {
      "cell_type": "code",
      "execution_count": null,
      "metadata": {
        "id": "vNAChIqylIlt"
      },
      "outputs": [],
      "source": [
        "# Edit code from 4E), using your filter as the kernel_regularizer in the Conv1D layer"
      ]
    },
    {
      "cell_type": "markdown",
      "metadata": {
        "id": "Rs44ze96kHZZ"
      },
      "source": [
        "<b>4G)</b> With the above choice of regularization parameter, what is the mean square error of the best network that you find on the test data? Try a few trials (5 or more) for each data test and report the value of the best network.\n"
      ]
    },
    {
      "cell_type": "markdown",
      "metadata": {
        "id": "IAN0k9wylOmz"
      },
      "source": [
        "\n",
        "#### We expect the training to be easier when there are fewer parameters to learn. Consider images of size $128\\times 1$ for the rest of the problem."
      ]
    },
    {
      "cell_type": "markdown",
      "metadata": {
        "id": "ZnktFwXRkKNF"
      },
      "source": [
        "<b>4H)</b> Instead of resorting to regularization again, we may instead find a way to reduce the number of parameters. What additional layer can you add to the output of the convolution layer to reduce the number of parameters to be learned without losing any relevant information?\n",
        "\n",
        "<a href=\"https://openlearninglibrary.mit.edu/courses/course-v1:MITx+6.036+1T2019/courseware/Week8/week8_homework/\">Refer to Catsoop.</a>"
      ]
    },
    {
      "cell_type": "markdown",
      "metadata": {
        "id": "zXgOqKtRkNRP"
      },
      "source": [
        "<b>4I)</b> Add the layer you suggested above to your network and run some tests with data sets of size 1000 on $128\\times 1$ images.  How many parameters are left to learn with the new structure?"
      ]
    },
    {
      "cell_type": "markdown",
      "metadata": {
        "id": "e8FRQawHkPG9"
      },
      "source": [
        "<b>4J)</b> Mark your observations on the two structures (not using regularization).\n",
        "<a href=\"https://openlearninglibrary.mit.edu/courses/course-v1:MITx+6.036+1T2019/courseware/Week8/week8_homework/\">Refer to Catsoop.</a>"
      ]
    },
    {
      "cell_type": "markdown",
      "metadata": {
        "id": "I-iTDCrHySde"
      },
      "source": []
    },
    {
      "cell_type": "markdown",
      "metadata": {
        "id": "eQGlJLxI__4A"
      },
      "source": [
        "# 5) MNIST (Digit Classification)\n",
        "\n",
        "In this section, we'll be looking at the MNIST data set seen already in problem 2. This time, we look at the *complete* MNIST problem where our networks will take an image of *any* digit from $0-9$ as input (recall that problem 2 only looked at digits $0$ and $1$) and try to predict that digit. Also, we will now use out-of-the-box neural network implementations using Keras and Tensorflow. State-of-the-art systems have error rates of less that one half of one percent on this data set (see <a href=\"http://rodrigob.github.io/are_we_there_yet/build/classification_datasets_results.html#4d4e495354\">this list</a>).  We'll be happy with an error rate less than 2% since we don't have all year...\n",
        "<br>\n",
        "\n",
        "You can access the MNIST data for this problem using:\n",
        "<br><code>train, validation = get_MNIST_data()</code>\n",
        "<br>\n",
        "\n",
        "You can run the fully connected MNIST model, using:\n",
        "<br><code>run_keras_fc_mnist(train, validation, layers, epochs, split=0.1, trials=5)</code>\n",
        "<br>\n",
        "\n",
        "And, you can run the CNN MNIST test, using:\n",
        "<br><code>run_keras_cnn_mnist(train, validation, layers, epochs, split=0.1, trials=5)</code>\n",
        "<br>\n",
        "\n",
        "For all following experiments, please run for 5 trials (use `trials=5`) and report the average accuracy.\n",
        "<br>\n",
        "\n",
        "A word of warning, if you have a machine with a single core and/or very little RAM, you'll be better off running on an Athena workstation. If your solutions are not being accepted, and you are confident in your approach, try with more trials. Also,\n",
        "<br>\n",
        "\n",
        "You will need to design your own `layers` to feed to `run_keras_fc_mnist` and `run_keras_cnn_mnist`, which will be different than the ones specified by `archs()`. For instance, `layers=[Dense(input_dim=64, units=4, activation=\"softmax\")]` defines a single layer with 64 inputs, 4 output units, and softmax activation. Also, we advise you to use the option `verbose=True` when unsure about the progress made during training of your models.\n",
        "<br>"
      ]
    },
    {
      "cell_type": "markdown",
      "metadata": {
        "id": "dx1jt6P9AUk1"
      },
      "source": [
        "<b> 5A)</b> Look at the code and indicate what the difference is between <code>run_keras_fc_mnist</code> and <code>run_keras_cnn_mnist</code>? <a href=\"https://openlearninglibrary.mit.edu/courses/course-v1:MITx+6.036+1T2019/courseware/Week8/week8_homework/\">Refer to the HW8 page.</a>"
      ]
    },
    {
      "cell_type": "code",
      "execution_count": null,
      "metadata": {
        "id": "Q5moSfb7CcXd"
      },
      "outputs": [],
      "source": [
        "def run_keras_fc_mnist(train, test, layers, epochs, split=0.1, verbose=True, trials=1):\n",
        "    '''\n",
        "    train, test = input data\n",
        "    layers = list of Keras layers, e.g. [Dense(32, input_dim=784), Dense(10)]\n",
        "    epochs = number of epochs to run the model for each traini\n",
        "    ng trial\n",
        "    trials = number of evaluation trials, resetting weights before each trial\n",
        "    '''\n",
        "    (X_train, y1), (X_val, y2) = train, test\n",
        "    # Flatten the images\n",
        "    m = X_train.shape[1]\n",
        "    X_train = X_train.reshape((X_train.shape[0], m*m))\n",
        "    X_val = X_val.reshape((X_val.shape[0], m*m))\n",
        "    # Categorize the labels\n",
        "    num_classes = 10\n",
        "    y_train = np_utils.to_categorical(y1, num_classes)\n",
        "    y_val = np_utils.to_categorical(y2, num_classes)\n",
        "    # Train, use split for validation\n",
        "    val_acc, test_acc = 0, 0\n",
        "    for trial in range(trials):\n",
        "        # Reset the weights\n",
        "        # See https://github.com/keras-team/keras/issues/341\n",
        "        session = K.get_session()\n",
        "        for layer in layers:\n",
        "            for v in layer.__dict__:\n",
        "                v_arg = getattr(layer, v)\n",
        "                if hasattr(v_arg, 'initializer'):\n",
        "                    initializer_func = getattr(v_arg, 'initializer')\n",
        "                    initializer_func.run(session=session)\n",
        "        # Run the model\n",
        "        model, history, vacc, tacc = \\\n",
        "                run_keras(X_train, y_train, X_val, y_val, None, None, layers, epochs, split=split, verbose=verbose)\n",
        "        val_acc += vacc if vacc else 0\n",
        "        test_acc += tacc if tacc else 0\n",
        "    if val_acc:\n",
        "        print (\"\\nAvg. validation accuracy:\"  + str(val_acc/trials))\n",
        "    if test_acc:\n",
        "        print (\"\\nAvg. test accuracy:\"  + str(test_acc/trials))\n",
        "\n",
        "def run_keras_cnn_mnist(train, test, layers, epochs, split=0.1, verbose=True, trials=1):\n",
        "    # Load the dataset\n",
        "    (X_train, y1), (X_val, y2) = train, test\n",
        "    # Add a final dimension indicating the number of channels (only 1 here)\n",
        "    m = X_train.shape[1]\n",
        "    X_train = X_train.reshape((X_train.shape[0], m, m, 1))\n",
        "    X_val = X_val.reshape((X_val.shape[0], m, m, 1))\n",
        "    # Categorize the labels\n",
        "    num_classes = 10\n",
        "    y_train = np_utils.to_categorical(y1, num_classes)\n",
        "    y_val = np_utils.to_categorical(y2, num_classes)\n",
        "    # Train, use split for validation\n",
        "    val_acc, test_acc = 0, 0\n",
        "    for trial in range(trials):\n",
        "        # Reset the weights\n",
        "        # See https://github.com/keras-team/keras/issues/341\n",
        "        session = K.get_session()\n",
        "        for layer in layers:\n",
        "            for v in layer.__dict__:\n",
        "                v_arg = getattr(layer, v)\n",
        "                if hasattr(v_arg, 'initializer'):\n",
        "                    initializer_func = getattr(v_arg, 'initializer')\n",
        "                    initializer_func.run(session=session)\n",
        "        # Run the model\n",
        "        model, history, vacc, tacc = \\\n",
        "                run_keras(X_train, y_train, X_val, y_val, None, None, layers, epochs, split=split, verbose=verbose)\n",
        "        val_acc += vacc if vacc else 0\n",
        "        test_acc += tacc if tacc else 0\n",
        "    if val_acc:\n",
        "        print (\"\\nAvg. validation accuracy:\"  + str(val_acc/trials))\n",
        "    if test_acc:\n",
        "        print (\"\\nAvg. test accuracy:\"  + str(test_acc/trials))"
      ]
    },
    {
      "cell_type": "markdown",
      "metadata": {
        "id": "4sGfqAbICbmE"
      },
      "source": [
        "<b> 5B)</b> Using one epoch of training, what is the accuracy of a network **with no hidden units** (using the <code>run_keras_fc_mnist</code> method) on this data? Hint: this is expected to be terrible. If it's still not working, run for more trials. Remember to use 10 output units (the network predicts a digit from 0-9) and softmax activation!\n",
        "\n"
      ]
    },
    {
      "cell_type": "code",
      "execution_count": null,
      "metadata": {
        "id": "H1VAxZ17DtPQ"
      },
      "outputs": [],
      "source": [
        "layers = None  # Your code\n",
        "train, validation = get_MNIST_data()\n",
        "run_keras_fc_mnist(train, validation, layers, 1, split=0.1, verbose=True, trials=5)"
      ]
    },
    {
      "cell_type": "markdown",
      "metadata": {
        "id": "5Gndf-ASDEe_"
      },
      "source": [
        "<b> 5C)</b> When creating the keras layer, pass in the following argument to Dense:\n",
        "<code>kernel_initializer=VarianceScaling(scale=0.001, mode='fan_in', distribution='normal', seed=None)</code> and repeat the test.  What is the accuracy now?\n"
      ]
    },
    {
      "cell_type": "code",
      "execution_count": null,
      "metadata": {
        "id": "x2CP5WJQELJA"
      },
      "outputs": [],
      "source": [
        "layers = None  # Your code\n",
        "train, validation = get_MNIST_data()\n",
        "run_keras_fc_mnist(train, validation, layers, 1, split=0.1, verbose=True, trials=5)"
      ]
    },
    {
      "cell_type": "markdown",
      "metadata": {
        "id": "xsQ31e1lDE6u"
      },
      "source": [
        "<b> 5D)</b> Now, linearly scale the data so that the pixel values are between 0 and 1 and repeat your test with the original layer (no VarianceScaling). What is the accuracy now?"
      ]
    },
    {
      "cell_type": "code",
      "execution_count": null,
      "metadata": {
        "id": "5b-RcZu1EPaj"
      },
      "outputs": [],
      "source": [
        "layers = None  # Your code\n",
        "train, validation = get_MNIST_data()\n",
        "\n",
        "# Scale the images\n",
        "train = (None, train[1])  # Your code\n",
        "validation = (None, validation[1])  # Your code\n",
        "\n",
        "run_keras_fc_mnist(train, validation, layers, 1, split=0.1, verbose=True, trials=5)"
      ]
    },
    {
      "cell_type": "markdown",
      "metadata": {
        "id": "S4aBsxAzDFBY"
      },
      "source": [
        "<b> 5E)</b> What is happening? <a href=\"https://openlearninglibrary.mit.edu/courses/course-v1:MITx+6.036+1T2019/courseware/Week8/week8_homework/\">Refer to the HW8 page.</a>\n"
      ]
    },
    {
      "cell_type": "markdown",
      "metadata": {
        "id": "KrYGfcOLEr0f"
      },
      "source": [
        "### Important: <b>Always scale the data like in 5D) for subsequent problems.</b>\n"
      ]
    },
    {
      "cell_type": "markdown",
      "metadata": {
        "id": "mHoyqJdqDFH5"
      },
      "source": [
        "<b> 5F)</b> Using this same architecture, evaluate validation accuracy for number of training epochs in [5, 10, 15]."
      ]
    },
    {
      "cell_type": "code",
      "execution_count": null,
      "metadata": {
        "id": "q8PlbWS_EwTv"
      },
      "outputs": [],
      "source": [
        "train, validation = get_MNIST_data()\n",
        "\n",
        "# Scale the images\n",
        "train = (None, train[1])  # Your code\n",
        "validation = (None, validation[1])  # Your code\n",
        "\n",
        "for epochs in [5,10,15]:\n",
        "    layers = None  # Your code\n",
        "    run_keras_fc_mnist(train, validation, layers, epochs, split=0.1, verbose=True, trials=5)"
      ]
    },
    {
      "cell_type": "markdown",
      "metadata": {
        "id": "6zJk4u2-DFNi"
      },
      "source": [
        "<b> 5G a)</b>With the validation accuracy that you just saw on per digit basis using $15$ epochs, and assuming each digit is read independently from the others, what is the probability of reading a 5 digit zip code correctly?<br>\n",
        "\n",
        "<b> 5G b)</b>Now, assume that the accuracy is 0.9985, what is the probability of reading a zip code correctly?<br>\n",
        "\n",
        "\n",
        "This is why people care about dropping the error rates to what at first sound like ridiculous values.\n",
        "\n",
        "<a href=\"https://openlearninglibrary.mit.edu/courses/course-v1:MITx+6.036+1T2019/courseware/Week8/week8_homework/\">Refer to the HW8 page.</a>"
      ]
    },
    {
      "cell_type": "markdown",
      "metadata": {
        "id": "vCPTuz-tDFTg"
      },
      "source": [
        "<b> 5H)</b> Using one epoch of training, try a single hidden layer with ReLU and gradually increase the units (128, 256, 512, 1024) units.  What are the accuracies?"
      ]
    },
    {
      "cell_type": "code",
      "execution_count": null,
      "metadata": {
        "id": "bmpbP_VHFoh1"
      },
      "outputs": [],
      "source": [
        "train, validation = get_MNIST_data()\n",
        "\n",
        "# Scale the images\n",
        "train = (None, train[1])  # Your code\n",
        "validation = (None, validation[1])  # Your code\n",
        "\n",
        "for num in [128,256,512,1024]:\n",
        "    layers = None  # Your code\n",
        "    run_keras_fc_mnist(train, validation, layers, 1, split=0.1, verbose=True, trials=5)"
      ]
    },
    {
      "cell_type": "markdown",
      "metadata": {
        "id": "gEM5mZi5DFYS"
      },
      "source": [
        "<b> 5I)</b> Now, try a network with two layers, again using one epoch, with 512 units in the first hidden layer and and 256 units in the second hidden layer.  What is the accuracy?"
      ]
    },
    {
      "cell_type": "code",
      "execution_count": null,
      "metadata": {
        "id": "6cwp1VR7F06q"
      },
      "outputs": [],
      "source": [
        "train, validation = get_MNIST_data()\n",
        "\n",
        "# Scale the images\n",
        "train = (None, train[1])  # Your code\n",
        "validation = (None, validation[1])  # Your code\n",
        "\n",
        "layers = None  # Your code\n",
        "run_keras_fc_mnist(train, validation, layers, 1, split=0.1, verbose=True, trials=5)"
      ]
    },
    {
      "cell_type": "markdown",
      "metadata": {
        "id": "TmnNUT2nDFdi"
      },
      "source": [
        "<b> 5J)</b> Build a convolutional network with the following structure:\n",
        "\n",
        "<ul>\n",
        "<li> A convolutional layer with 32 filters of size 3 × 3, with a ReLU activation\n",
        "<li> A max pooling layer with size 2 × 2\n",
        "<li> A convolutional layer with 64 filters of size 3 × 3, with ReLU activation\n",
        "<li> A max pooling layer with size 2 × 2\n",
        "<li> A flatten layer\n",
        "<li> A fully connected layer with 128 neurons, with ReLU activation\n",
        "<li> A dropout layer with drop probability 0.5\n",
        "<li> A fully-connected layer with 10 neurons with softmax\n",
        "</ul>\n",
        "Train it on MNIST for one epoch, using <code>run_keras_cnn_mnist</code>.  What is the accuracy on the validation set?\n",
        "\n",
        "If you have time to run the training for more epochs, try it, you should see improvement.\n"
      ]
    },
    {
      "cell_type": "code",
      "execution_count": null,
      "metadata": {
        "id": "3-sPW8xKF7EZ"
      },
      "outputs": [],
      "source": [
        "train, validation = get_MNIST_data()\n",
        "\n",
        "# Scale the images\n",
        "train = (None, train[1])  # Your code\n",
        "validation = (None, validation[1])  # Your code\n",
        "\n",
        "layers = None  # Your code\n",
        "\n",
        "run_keras_cnn_mnist(train, validation, layers, 1, split=0.1, verbose=True, trials=5)"
      ]
    },
    {
      "cell_type": "markdown",
      "metadata": {
        "id": "KjmqgGvIDFiS"
      },
      "source": [
        "<b> 5K)</b> Now, let's compare the performance of a fully connected model and a CNN on data where the characters have been shifted randomly so that they are no longer centered.  \n",
        "\n",
        "You can build such a data set by calling: <code>train_20, validation_20 = get_MNIST_data(shift=20)</code>. Remember to scale it appropriately.\n",
        "\n",
        "<b>Note that each image is now 48x48, so you will need to change your layer definitions</b>.\n",
        "Run your two-hidden-layer FC architecture from above (problem 5I) on this data and then run the CNN architecture from above (problem 5J), both for one epoch. Report your results.\n"
      ]
    },
    {
      "cell_type": "code",
      "execution_count": null,
      "metadata": {
        "id": "uvfiyrN9Gf7X"
      },
      "outputs": [],
      "source": [
        "train_20, validation_20 = get_MNIST_data(shift=20) # Your code (fill in the shift)\n",
        "print(train_20[0].shape)\n",
        "print(validation_20[0].shape)\n",
        "# Scale the images\n",
        "train_20 = (None, train_20[1])  # Your code\n",
        "validation_20 = (None, validation_20[1])  # Your code\n",
        "\n",
        "\n",
        "\n",
        "layers_fc = None  # Your code\n",
        "\n",
        "run_keras_fc_mnist(train_20, validation_20, layers_fc, 1, split=0.1, verbose=True, trials=5)\n",
        "\n",
        "layers_cnn = None  # Your code\n",
        "\n",
        "run_keras_cnn_mnist(train_20, validation_20, layers_cnn, 1, split=0.1, verbose=True, trials=5)"
      ]
    },
    {
      "cell_type": "markdown",
      "metadata": {
        "id": "1iLmfPHaC2d8"
      },
      "source": [
        "<b> 5L)</b> Some possible conclusions. <a href=\"https://openlearninglibrary.mit.edu/courses/course-v1:MITx+6.036+1T2019/courseware/Week8/week8_homework/\">Refer to the HW8 page.</a>"
      ]
    }
  ],
  "metadata": {
    "colab": {
      "collapsed_sections": [
        "v-sSs7N4mMiX",
        "Zh4u39OCjLza"
      ],
      "provenance": []
    },
    "kernelspec": {
      "display_name": "Python 3",
      "language": "python",
      "name": "python3"
    },
    "language_info": {
      "codemirror_mode": {
        "name": "ipython",
        "version": 3
      },
      "file_extension": ".py",
      "mimetype": "text/x-python",
      "name": "python",
      "nbconvert_exporter": "python",
      "pygments_lexer": "ipython3",
      "version": "3.12.1"
    }
  },
  "nbformat": 4,
  "nbformat_minor": 0
}
